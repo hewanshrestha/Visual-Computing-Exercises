{
  "cells": [
    {
      "cell_type": "markdown",
      "metadata": {
        "id": "view-in-github",
        "colab_type": "text"
      },
      "source": [
        "<a href=\"https://colab.research.google.com/github/hewanshrestha/Visual-Computing-Exercises/blob/master/Feature_Extraction_with_Python.ipynb\" target=\"_parent\"><img src=\"https://colab.research.google.com/assets/colab-badge.svg\" alt=\"Open In Colab\"/></a>"
      ]
    },
    {
      "cell_type": "markdown",
      "metadata": {
        "id": "S2Wx_Mdpg2Vt"
      },
      "source": [
        "**Feature Extraction with Python**"
      ]
    },
    {
      "cell_type": "code",
      "execution_count": null,
      "metadata": {
        "id": "Ar7c90sMdvkk"
      },
      "outputs": [],
      "source": [
        "from torchvision import datasets\n",
        "import pickle\n",
        "import PIL\n",
        "from skimage.feature import local_binary_pattern, greycomatrix, greycoprops\n",
        "from skimage.filters import gabor\n",
        "import numpy as np\n",
        "import matplotlib.pyplot as plt\n",
        "import tqdm"
      ]
    },
    {
      "cell_type": "code",
      "execution_count": null,
      "metadata": {
        "colab": {
          "base_uri": "https://localhost:8080/",
          "height": 101,
          "referenced_widgets": [
            "5b11a7cf43d949a9bdc459f0ef9ffacc",
            "b64d3e46938c48ab95251819bf6b5bc8",
            "77ed6ba19e7f4a158fa9f6ccc2a840fc",
            "3710e1ef656f429894ab89019adaf199",
            "1ffad99149fe45b3b26cf237635b5412",
            "c39bec25f8f94374860ecc8a4cb9fe63",
            "f909fd3109dc47bda537e488bcd4400b",
            "5afd2067635a4b059903429d9703a684",
            "77e884ea91424560af8b20738384c813",
            "a64134aa86184aa082ca898a7282c9cf",
            "b9f442c475bd490ebc906d9d53c15e41"
          ]
        },
        "id": "mViUeT3AioME",
        "outputId": "83c301cd-87e7-4c10-8c69-539e0c749de5"
      },
      "outputs": [
        {
          "name": "stdout",
          "output_type": "stream",
          "text": [
            "Downloading https://www.cs.toronto.edu/~kriz/cifar-10-python.tar.gz to ./cifar10/cifar-10-python.tar.gz\n"
          ]
        },
        {
          "data": {
            "application/vnd.jupyter.widget-view+json": {
              "model_id": "5b11a7cf43d949a9bdc459f0ef9ffacc",
              "version_major": 2,
              "version_minor": 0
            },
            "text/plain": [
              "  0%|          | 0/170498071 [00:00<?, ?it/s]"
            ]
          },
          "metadata": {},
          "output_type": "display_data"
        },
        {
          "name": "stdout",
          "output_type": "stream",
          "text": [
            "Extracting ./cifar10/cifar-10-python.tar.gz to ./cifar10/\n",
            "Files already downloaded and verified\n"
          ]
        }
      ],
      "source": [
        "# Dataset Loading\n",
        "train_set = datasets.CIFAR10('./cifar10/', train=True, download=True)\n",
        "test_set = datasets.CIFAR10('./cifar10/', train=False, download=True)"
      ]
    },
    {
      "cell_type": "code",
      "execution_count": null,
      "metadata": {
        "colab": {
          "base_uri": "https://localhost:8080/"
        },
        "id": "GSAQtBvqjB81",
        "outputId": "e94b594a-8e72-434b-b3b0-00ede226dd78"
      },
      "outputs": [
        {
          "name": "stdout",
          "output_type": "stream",
          "text": [
            "Size of training dataset: 50000\n",
            "Size of testing dataset: 10000\n"
          ]
        }
      ],
      "source": [
        "#Size of Train and Test Dataset\n",
        "print('Size of training dataset: '+str(len(train_set)))\n",
        "print('Size of testing dataset: '+str(len(test_set)))"
      ]
    },
    {
      "cell_type": "code",
      "execution_count": null,
      "metadata": {
        "colab": {
          "base_uri": "https://localhost:8080/",
          "height": 283
        },
        "id": "Vn8oKcu_jMex",
        "outputId": "ffb1d8b3-70de-4362-8b8e-d93ec43fd74f"
      },
      "outputs": [
        {
          "data": {
            "text/plain": [
              "<matplotlib.image.AxesImage at 0x7fe56837c390>"
            ]
          },
          "execution_count": 19,
          "metadata": {},
          "output_type": "execute_result"
        },
        {
          "data": {
            "image/png": "[encoded data removed]",
            "text/plain": [
              "<Figure size 432x288 with 1 Axes>"
            ]
          },
          "metadata": {},
          "output_type": "display_data"
        }
      ],
      "source": [
        "#Feature Extraction on a Single Image\n",
        "img = train_set[0][0]\n",
        "img_gray = img.convert('L')\n",
        "img_arr = np.array(img_gray)\n",
        "plt.imshow(img)"
      ]
    },
    {
      "cell_type": "markdown",
      "metadata": {
        "id": "AKF_XzAos3Vp"
      },
      "source": [
        "**Local Binary Patterns**"
      ]
    },
    {
      "cell_type": "code",
      "execution_count": null,
      "metadata": {
        "colab": {
          "base_uri": "https://localhost:8080/",
          "height": 283
        },
        "id": "yLlOXY_4s6AM",
        "outputId": "1675b611-bac3-446e-df27-be14e71346e3"
      },
      "outputs": [
        {
          "data": {
            "text/plain": [
              "<matplotlib.image.AxesImage at 0x7fe568175390>"
            ]
          },
          "execution_count": 21,
          "metadata": {},
          "output_type": "execute_result"
        },
        {
          "data": {
            "image/png": "[encoded data removed]",
            "text/plain": [
              "<Figure size 432x288 with 1 Axes>"
            ]
          },
          "metadata": {},
          "output_type": "display_data"
        }
      ],
      "source": [
        "# Finding LBP(Local Binary Patterns)\n",
        "feature_lbp = local_binary_pattern(img_arr,8,1,'uniform') # radius=1, no. of neighbours=8\n",
        "feature_lbp = np.uint8((feature_lbp/feature_lbp.max())*255) # converting lbp matrix into uint8\n",
        "lbp_img = PIL.Image.fromarray(feature_lbp)\n",
        "plt.imshow(lbp_img, cmap='gray')"
      ]
    },
    {
      "cell_type": "code",
      "execution_count": null,
      "metadata": {
        "colab": {
          "base_uri": "https://localhost:8080/"
        },
        "id": "_wBxsWfkvMi9",
        "outputId": "b6d6735a-35ce-4bbb-ce7e-0645ee9b285b"
      },
      "outputs": [
        {
          "name": "stdout",
          "output_type": "stream",
          "text": [
            "LBP Energy: 0.14315032958984375\n",
            "LBP Entropy: 2.8972505530220363\n"
          ]
        }
      ],
      "source": [
        "# Finding energy and entropy of LBP feature\n",
        "lbp_hist,_ = np.histogram(feature_lbp,8) # input_array=feature_lbp, no. of bins=8\n",
        "lbp_hist = np.array(lbp_hist, dtype='float')\n",
        "lbp_prob = np.divide(lbp_hist, np.sum(lbp_hist))\n",
        "lbp_energy = np.sum(lbp_prob**2)\n",
        "lbp_entropy = -np.sum(np.multiply(lbp_prob,np.log2(lbp_prob)))\n",
        "print('LBP Energy: '+str(lbp_energy))\n",
        "print('LBP Entropy: '+str(lbp_entropy))"
      ]
    },
    {
      "cell_type": "markdown",
      "metadata": {
        "id": "sUayLVNU0Iz4"
      },
      "source": [
        "**Co-occurence Matrix**"
      ]
    },
    {
      "cell_type": "code",
      "execution_count": null,
      "metadata": {
        "colab": {
          "base_uri": "https://localhost:8080/"
        },
        "id": "4SaDK74q0FFQ",
        "outputId": "d4abbb4a-614b-47fe-83b3-20cb11d1b0c0"
      },
      "outputs": [
        {
          "name": "stdout",
          "output_type": "stream",
          "text": [
            "Contrast: 1296.8916666666667\n",
            "Dissimilarity: 24.225\n",
            "Homogeneity: 0.06323755700795276\n",
            "Energy: 0.027282918445226654\n",
            "Correlation: 0.6119618429581918\n"
          ]
        }
      ],
      "source": [
        "# Finding GLCM features from co-occurence matrix\n",
        "gCoMat = greycomatrix(img_arr, [2], [0], symmetric=True, normed=True)\n",
        "contrast = greycoprops(gCoMat, prop='contrast')\n",
        "dissimilarity = greycoprops(gCoMat, prop='dissimilarity')\n",
        "homogeneity = greycoprops(gCoMat, prop='homogeneity')\n",
        "energy = greycoprops(gCoMat, prop='energy')\n",
        "correlation = greycoprops(gCoMat, prop='correlation')\n",
        "print('Contrast: '+str(contrast[0][0]))\n",
        "print('Dissimilarity: '+str(dissimilarity[0][0]))\n",
        "print('Homogeneity: '+str(homogeneity[0][0]))\n",
        "print('Energy: '+str(energy[0][0]))\n",
        "print('Correlation: '+str(correlation[0][0]))"
      ]
    },
    {
      "cell_type": "markdown",
      "metadata": {
        "id": "_zbZyxN52eAM"
      },
      "source": [
        "**Gabor Filter**"
      ]
    },
    {
      "cell_type": "code",
      "execution_count": null,
      "metadata": {
        "colab": {
          "base_uri": "https://localhost:8080/",
          "height": 166
        },
        "id": "sO855UNF1907",
        "outputId": "84ee4e5e-5407-4c0e-a0b5-2d7bc07493b7"
      },
      "outputs": [
        {
          "data": {
            "text/plain": [
              "<matplotlib.image.AxesImage at 0x7fe567906490>"
            ]
          },
          "execution_count": 44,
          "metadata": {},
          "output_type": "execute_result"
        },
        {
          "data": {
            "image/png": "[encoded data removed]",
            "text/plain": [
              "<Figure size 432x288 with 3 Axes>"
            ]
          },
          "metadata": {},
          "output_type": "display_data"
        }
      ],
      "source": [
        "# Gabor Filter\n",
        "gaborFilt_real, gaborFilt_imag = gabor(img_arr, frequency=0.7)\n",
        "gaborFilt = (gaborFilt_real**2 + gaborFilt_imag**2) // 2\n",
        "\n",
        "# Displaying filter response\n",
        "fig, ax = plt.subplots(1,3)\n",
        "ax[0].imshow(gaborFilt_real, cmap='gray')\n",
        "ax[1].imshow(gaborFilt_imag, cmap='gray')\n",
        "ax[2].imshow(gaborFilt, cmap='gray')"
      ]
    },
    {
      "cell_type": "code",
      "execution_count": null,
      "metadata": {
        "colab": {
          "base_uri": "https://localhost:8080/"
        },
        "id": "ZxmkDI_Z18HJ",
        "outputId": "3a5733dc-31a8-4c10-8b68-868d62f12f5d"
      },
      "outputs": [
        {
          "name": "stdout",
          "output_type": "stream",
          "text": [
            "LBP Energy: 0.15009307861328125\n",
            "LBP Entropy: 2.8516917329731735\n"
          ]
        }
      ],
      "source": [
        "# Finding energy and entropy of LBP feature\n",
        "gabor_hist,_ = np.histogram(gaborFilt,8) # input_array=feature_lbp, no. of bins=8\n",
        "gabor_hist = np.array(gabor_hist, dtype='float')\n",
        "gabor_prob = np.divide(gabor_hist, np.sum(gabor_hist))\n",
        "gabor_energy = np.sum(gabor_prob**2)\n",
        "gabor_entropy = -np.sum(np.multiply(gabor_prob,np.log2(gabor_prob)))\n",
        "print('LBP Energy: '+str(gabor_energy))\n",
        "print('LBP Entropy: '+str(gabor_entropy))"
      ]
    },
    {
      "cell_type": "markdown",
      "metadata": {
        "id": "BjkbyD5V9IF7"
      },
      "source": [
        "**Extracting features from all images in the dataset**"
      ]
    },
    {
      "cell_type": "code",
      "execution_count": null,
      "metadata": {
        "colab": {
          "base_uri": "https://localhost:8080/",
          "height": 171,
          "referenced_widgets": [
            "dcd6600d529b4701b89479aee1ed1585",
            "ac0aca7f50034ebeb067a13b102e7bd9",
            "2e77e1aeadac4f9f91689f95f5f9afd7",
            "7e727bb36e964757bc8f972ae2b1e28d",
            "9d4f9d9e471c41a0bbfe8cee7a81b90d",
            "6e82428b80894f49b95d8047de3159a3",
            "8c6571483f544afba6276968ba864bd5",
            "bd5a7e4337084284b102ccfa20ab606d",
            "8f83294e54994c5499d5cbde501520c7",
            "eacf621d93264f21a1311fa95c340ed4",
            "024592067b0e415f8a7925759d46f285"
          ]
        },
        "id": "pWZStY0F187B",
        "outputId": "7f32e036-d780-4fff-ef8e-26ad7b1d5444"
      },
      "outputs": [
        {
          "name": "stderr",
          "output_type": "stream",
          "text": [
            "/usr/local/lib/python3.7/dist-packages/ipykernel_launcher.py:5: TqdmDeprecationWarning: This function will be removed in tqdm==5.0.0\n",
            "Please use `tqdm.notebook.tqdm` instead of `tqdm.tqdm_notebook`\n",
            "  \"\"\"\n"
          ]
        },
        {
          "data": {
            "application/vnd.jupyter.widget-view+json": {
              "model_id": "dcd6600d529b4701b89479aee1ed1585",
              "version_major": 2,
              "version_minor": 0
            },
            "text/plain": [
              "  0%|          | 0/50000 [00:00<?, ?it/s]"
            ]
          },
          "metadata": {},
          "output_type": "display_data"
        },
        {
          "name": "stderr",
          "output_type": "stream",
          "text": [
            "/usr/local/lib/python3.7/dist-packages/ipykernel_launcher.py:17: RuntimeWarning: divide by zero encountered in log2\n",
            "/usr/local/lib/python3.7/dist-packages/ipykernel_launcher.py:17: RuntimeWarning: invalid value encountered in multiply\n",
            "/usr/local/lib/python3.7/dist-packages/ipykernel_launcher.py:35: RuntimeWarning: divide by zero encountered in log2\n",
            "/usr/local/lib/python3.7/dist-packages/ipykernel_launcher.py:35: RuntimeWarning: invalid value encountered in multiply\n"
          ]
        }
      ],
      "source": [
        "# Generating training data by extracting features from all images\n",
        "label = []\n",
        "feature_len = 2+5+2\n",
        "train_feature = np.zeros((len(train_set),feature_len)) # Feature vector of each image is of size 1x1030\n",
        "for tr in tqdm.tqdm_notebook(range(len(train_set))):\n",
        "\n",
        "    img = train_set[tr][0] # One image at a time\n",
        "    img_gray = img.convert('L') # Converting to grayscale\n",
        "    img_arr = np.array(img_gray.getdata()).reshape(img.size[1],img.size[0]) # Converting to array\n",
        "\n",
        "    # LBP\n",
        "    feature_lbp = local_binary_pattern(img_arr,5,2,'uniform').reshape(img.size[0]*img.size[1])\n",
        "    lbp_hist,_ = np.histogram(feature_lbp,8)\n",
        "    lbp_hist = np.array(lbp_hist,dtype=float)\n",
        "    lbp_prob = np.divide(lbp_hist,np.sum(lbp_hist))\n",
        "    lbp_energy = np.nansum(lbp_prob**2)\n",
        "    lbp_entropy = -np.nansum(np.multiply(lbp_prob,np.log2(lbp_prob)))   \n",
        "\n",
        "    # GLCM\n",
        "    gCoMat = greycomatrix(img_arr, [2], [0],256,symmetric=True, normed=True)\n",
        "    contrast = greycoprops(gCoMat, prop='contrast')\n",
        "    dissimilarity = greycoprops(gCoMat, prop='dissimilarity')\n",
        "    homogeneity = greycoprops(gCoMat, prop='homogeneity')    \n",
        "    energy = greycoprops(gCoMat, prop='energy')\n",
        "    correlation = greycoprops(gCoMat, prop='correlation')    \n",
        "    feat_glcm = np.array([contrast[0][0],dissimilarity[0][0],homogeneity[0][0],energy[0][0],correlation[0][0]])\n",
        "\n",
        "    # Gabor filter\n",
        "    gaborFilt_real,gaborFilt_imag = gabor(img_arr,frequency=0.6)\n",
        "    gaborFilt = (gaborFilt_real**2+gaborFilt_imag**2)//2\n",
        "    gabor_hist,_ = np.histogram(gaborFilt,8)\n",
        "    gabor_hist = np.array(gabor_hist,dtype=float)\n",
        "    gabor_prob = np.divide(gabor_hist,np.sum(gabor_hist))\n",
        "    gabor_energy = np.nansum(gabor_prob**2)\n",
        "    gabor_entropy = -np.nansum(np.multiply(gabor_prob,np.log2(gabor_prob)))\n",
        "\n",
        "    # Concatenating features(2+5+2)    \n",
        "    concat_feat = np.concatenate(([lbp_energy,lbp_entropy],feat_glcm,[gabor_energy,gabor_entropy]),axis=0)\n",
        "    train_feature[tr,:] = concat_feat #Stacking features vectors for each image\n",
        "\n",
        "    # Class label\n",
        "    label.append(train_set[tr][1])\n",
        "\n",
        "train_label = np.array(label) #Conversion from list to array"
      ]
    },
    {
      "cell_type": "code",
      "execution_count": 51,
      "metadata": {
        "colab": {
          "base_uri": "https://localhost:8080/",
          "height": 205,
          "referenced_widgets": [
            "7672504f60fe4514a297242555b79ef3",
            "4c3d3bb000e14ee1b9817c1b0d5e7e1c",
            "de991eeb868d41e6a356a9b57d0f9e14",
            "2d366e95f3a34ae8b528d0e83ef392ed",
            "3576ec44524043aba558258869eba8ce",
            "21b21bc4bd3c490889debee3d67e20ae",
            "8e719b4f47a24cc192d8022f52bff085",
            "f759a7c30da64157b18d94caa0641154",
            "4ed4ccd52ea046c78f4936be8e3ddde3",
            "2bc68a675a364cd6a44e31f688ba7b67",
            "5f7c64e0ed1c429cb31280fcb93f0729"
          ]
        },
        "id": "kiVvJw0K16LF",
        "outputId": "c75a00eb-4388-4261-b20c-865c24e97f7c"
      },
      "outputs": [
        {
          "output_type": "stream",
          "name": "stderr",
          "text": [
            "/usr/local/lib/python3.7/dist-packages/ipykernel_launcher.py:4: TqdmDeprecationWarning: This function will be removed in tqdm==5.0.0\n",
            "Please use `tqdm.notebook.tqdm` instead of `tqdm.tqdm_notebook`\n",
            "  after removing the cwd from sys.path.\n"
          ]
        },
        {
          "output_type": "display_data",
          "data": {
            "text/plain": [
              "  0%|          | 0/10000 [00:00<?, ?it/s]"
            ],
            "application/vnd.jupyter.widget-view+json": {
              "version_major": 2,
              "version_minor": 0,
              "model_id": "7672504f60fe4514a297242555b79ef3"
            }
          },
          "metadata": {}
        },
        {
          "output_type": "stream",
          "name": "stderr",
          "text": [
            "/usr/local/lib/python3.7/dist-packages/ipykernel_launcher.py:16: RuntimeWarning: divide by zero encountered in log2\n",
            "  app.launch_new_instance()\n",
            "/usr/local/lib/python3.7/dist-packages/ipykernel_launcher.py:16: RuntimeWarning: invalid value encountered in multiply\n",
            "  app.launch_new_instance()\n",
            "/usr/local/lib/python3.7/dist-packages/ipykernel_launcher.py:34: RuntimeWarning: divide by zero encountered in log2\n",
            "/usr/local/lib/python3.7/dist-packages/ipykernel_launcher.py:34: RuntimeWarning: invalid value encountered in multiply\n"
          ]
        }
      ],
      "source": [
        "# Generating testing data by extracting features from all images\n",
        "label = []\n",
        "test_feature = np.zeros((len(test_set),feature_len)) # Feature vector of each image is of size 1x1030\n",
        "for ts in tqdm.tqdm_notebook(range(len(test_set))):\n",
        "    \n",
        "    img = test_set[ts][0] #One image at a time\n",
        "    img_gray = img.convert('L') #Converting to grayscale\n",
        "    img_arr = np.array(img_gray.getdata()).reshape(img.size[1],img.size[0]) #Converting to array\n",
        "\n",
        "    # LBP\n",
        "    feature_lbp = local_binary_pattern(img_arr,5,2,'uniform').reshape(img.size[0]*img.size[1])\n",
        "    lbp_hist,_ = np.histogram(feature_lbp,8)\n",
        "    lbp_hist = np.array(lbp_hist,dtype=float)\n",
        "    lbp_prob = np.divide(lbp_hist,np.sum(lbp_hist))\n",
        "    lbp_energy = np.nansum(lbp_prob**2)\n",
        "    lbp_entropy = -np.nansum(np.multiply(lbp_prob,np.log2(lbp_prob)))\n",
        "\n",
        "    # GLCM\n",
        "    gCoMat = greycomatrix(img_arr, [2], [0],256,symmetric=True, normed=True)\n",
        "    contrast = greycoprops(gCoMat, prop='contrast')\n",
        "    dissimilarity = greycoprops(gCoMat, prop='dissimilarity')\n",
        "    homogeneity = greycoprops(gCoMat, prop='homogeneity')    \n",
        "    energy = greycoprops(gCoMat, prop='energy')\n",
        "    correlation = greycoprops(gCoMat, prop='correlation')    \n",
        "    feat_glcm = np.array([contrast[0][0],dissimilarity[0][0],homogeneity[0][0],energy[0][0],correlation[0][0]])\n",
        "\n",
        "    # Gabor filter\n",
        "    gaborFilt_real,gaborFilt_imag = gabor(img_arr,frequency=0.6)\n",
        "    gaborFilt = (gaborFilt_real**2+gaborFilt_imag**2)//2\n",
        "    gabor_hist,_ = np.histogram(gaborFilt,8)\n",
        "    gabor_hist = np.array(gabor_hist,dtype=float)\n",
        "    gabor_prob = np.divide(gabor_hist,np.sum(gabor_hist))\n",
        "    gabor_energy = np.nansum(gabor_prob**2)\n",
        "    gabor_entropy = -np.nansum(np.multiply(gabor_prob,np.log2(gabor_prob)))\n",
        "\n",
        "    # Concatenating features(2+5+2)    \n",
        "    concat_feat = np.concatenate(([lbp_energy,lbp_entropy],feat_glcm,[gabor_energy,gabor_entropy]),axis=0)    \n",
        "    test_feature[ts,:] = concat_feat  #Stacking features vectors for each image\n",
        "\n",
        "    # Class label\n",
        "    label.append(test_set[ts][1])\n",
        "\n",
        "test_label = np.array(label)"
      ]
    },
    {
      "cell_type": "markdown",
      "metadata": {
        "id": "Z0_ZxLAA_Y1j"
      },
      "source": [
        "**Feature normalization**"
      ]
    },
    {
      "cell_type": "code",
      "execution_count": 54,
      "metadata": {
        "id": "xleTuQdm17fR"
      },
      "outputs": [],
      "source": [
        "# Normalizing the train features to the range [0,1]\n",
        "trMaxs = np.amax(train_feature,axis=0) #Finding maximum along each column\n",
        "trMins = np.amin(train_feature,axis=0) #Finding maximum along each column\n",
        "trMaxs_rep = np.tile(trMaxs,(50000,1)) #Repeating the maximum value along the rows\n",
        "trMins_rep = np.tile(trMins,(50000,1)) #Repeating the minimum value along the rows\n",
        "trainFeatsNorm = np.divide(train_feature-trMins_rep,trMaxs_rep) #Element-wise division\n",
        "\n",
        "# Normalizing the test features\n",
        "tsMaxs_rep = np.tile(trMaxs,(10000,1)) #Repeating the maximum value along the rows\n",
        "tsMins_rep = np.tile(trMins,(10000,1)) #Repeating the maximum value along the rows\n",
        "testFeatsNorm = np.divide(test_feature-tsMins_rep,tsMaxs_rep) #Element-wise division"
      ]
    },
    {
      "cell_type": "markdown",
      "metadata": {
        "id": "EQ5GrADM_lin"
      },
      "source": [
        "**Saving feature matrices to disk**"
      ]
    },
    {
      "cell_type": "code",
      "execution_count": 55,
      "metadata": {
        "id": "oR4QkEB5_oTQ",
        "colab": {
          "base_uri": "https://localhost:8080/"
        },
        "outputId": "1eedf5da-1a71-4bf8-d1a2-157fadf8ba5f"
      },
      "outputs": [
        {
          "output_type": "stream",
          "name": "stdout",
          "text": [
            "Files saved to disk!\n",
            "Files saved to disk!\n"
          ]
        }
      ],
      "source": [
        "# Saving normalized training data and labels\n",
        "with open(\"train_feature.pckl\", \"wb\") as f:\n",
        "    pickle.dump(trainFeatsNorm, f)\n",
        "with open(\"train_label.pckl\", \"wb\") as f:\n",
        "    pickle.dump(train_label, f)\n",
        "    \n",
        "# Saving normalized testing data and labels\n",
        "with open(\"test_feature.pckl\", \"wb\") as f:\n",
        "    pickle.dump(testFeatsNorm, f)\n",
        "with open(\"test_label.pckl\", \"wb\") as f:\n",
        "    pickle.dump(test_label, f)\n",
        "    \n",
        "print('Files saved to disk!')"
      ]
    }
  ],
  "metadata": {
    "colab": {
      "collapsed_sections": [],
      "name": "Feature_Extraction_with_Python.ipynb",
      "provenance": [],
      "authorship_tag": "ABX9TyPgXvLYLtS1G62RqMW5gxaj",
      "include_colab_link": true
    },
    "kernelspec": {
      "display_name": "Python 3",
      "name": "python3"
    },
    "language_info": {
      "name": "python"
    },
    "widgets": {
      "application/vnd.jupyter.widget-state+json": {
        "024592067b0e415f8a7925759d46f285": {
          "model_module": "@jupyter-widgets/controls",
          "model_module_version": "1.5.0",
          "model_name": "DescriptionStyleModel",
          "state": {
            "_model_module": "@jupyter-widgets/controls",
            "_model_module_version": "1.5.0",
            "_model_name": "DescriptionStyleModel",
            "_view_count": null,
            "_view_module": "@jupyter-widgets/base",
            "_view_module_version": "1.2.0",
            "_view_name": "StyleView",
            "description_width": ""
          }
        },
        "1ffad99149fe45b3b26cf237635b5412": {
          "model_module": "@jupyter-widgets/base",
          "model_module_version": "1.2.0",
          "model_name": "LayoutModel",
          "state": {
            "_model_module": "@jupyter-widgets/base",
            "_model_module_version": "1.2.0",
            "_model_name": "LayoutModel",
            "_view_count": null,
            "_view_module": "@jupyter-widgets/base",
            "_view_module_version": "1.2.0",
            "_view_name": "LayoutView",
            "align_content": null,
            "align_items": null,
            "align_self": null,
            "border": null,
            "bottom": null,
            "display": null,
            "flex": null,
            "flex_flow": null,
            "grid_area": null,
            "grid_auto_columns": null,
            "grid_auto_flow": null,
            "grid_auto_rows": null,
            "grid_column": null,
            "grid_gap": null,
            "grid_row": null,
            "grid_template_areas": null,
            "grid_template_columns": null,
            "grid_template_rows": null,
            "height": null,
            "justify_content": null,
            "justify_items": null,
            "left": null,
            "margin": null,
            "max_height": null,
            "max_width": null,
            "min_height": null,
            "min_width": null,
            "object_fit": null,
            "object_position": null,
            "order": null,
            "overflow": null,
            "overflow_x": null,
            "overflow_y": null,
            "padding": null,
            "right": null,
            "top": null,
            "visibility": null,
            "width": null
          }
        },
        "2e77e1aeadac4f9f91689f95f5f9afd7": {
          "model_module": "@jupyter-widgets/controls",
          "model_module_version": "1.5.0",
          "model_name": "FloatProgressModel",
          "state": {
            "_dom_classes": [],
            "_model_module": "@jupyter-widgets/controls",
            "_model_module_version": "1.5.0",
            "_model_name": "FloatProgressModel",
            "_view_count": null,
            "_view_module": "@jupyter-widgets/controls",
            "_view_module_version": "1.5.0",
            "_view_name": "ProgressView",
            "bar_style": "success",
            "description": "",
            "description_tooltip": null,
            "layout": "IPY_MODEL_bd5a7e4337084284b102ccfa20ab606d",
            "max": 50000,
            "min": 0,
            "orientation": "horizontal",
            "style": "IPY_MODEL_8f83294e54994c5499d5cbde501520c7",
            "value": 50000
          }
        },
        "3710e1ef656f429894ab89019adaf199": {
          "model_module": "@jupyter-widgets/controls",
          "model_module_version": "1.5.0",
          "model_name": "HTMLModel",
          "state": {
            "_dom_classes": [],
            "_model_module": "@jupyter-widgets/controls",
            "_model_module_version": "1.5.0",
            "_model_name": "HTMLModel",
            "_view_count": null,
            "_view_module": "@jupyter-widgets/controls",
            "_view_module_version": "1.5.0",
            "_view_name": "HTMLView",
            "description": "",
            "description_tooltip": null,
            "layout": "IPY_MODEL_a64134aa86184aa082ca898a7282c9cf",
            "placeholder": "​",
            "style": "IPY_MODEL_b9f442c475bd490ebc906d9d53c15e41",
            "value": " 170499072/? [00:03&lt;00:00, 53331036.02it/s]"
          }
        },
        "5afd2067635a4b059903429d9703a684": {
          "model_module": "@jupyter-widgets/base",
          "model_module_version": "1.2.0",
          "model_name": "LayoutModel",
          "state": {
            "_model_module": "@jupyter-widgets/base",
            "_model_module_version": "1.2.0",
            "_model_name": "LayoutModel",
            "_view_count": null,
            "_view_module": "@jupyter-widgets/base",
            "_view_module_version": "1.2.0",
            "_view_name": "LayoutView",
            "align_content": null,
            "align_items": null,
            "align_self": null,
            "border": null,
            "bottom": null,
            "display": null,
            "flex": null,
            "flex_flow": null,
            "grid_area": null,
            "grid_auto_columns": null,
            "grid_auto_flow": null,
            "grid_auto_rows": null,
            "grid_column": null,
            "grid_gap": null,
            "grid_row": null,
            "grid_template_areas": null,
            "grid_template_columns": null,
            "grid_template_rows": null,
            "height": null,
            "justify_content": null,
            "justify_items": null,
            "left": null,
            "margin": null,
            "max_height": null,
            "max_width": null,
            "min_height": null,
            "min_width": null,
            "object_fit": null,
            "object_position": null,
            "order": null,
            "overflow": null,
            "overflow_x": null,
            "overflow_y": null,
            "padding": null,
            "right": null,
            "top": null,
            "visibility": null,
            "width": null
          }
        },
        "5b11a7cf43d949a9bdc459f0ef9ffacc": {
          "model_module": "@jupyter-widgets/controls",
          "model_module_version": "1.5.0",
          "model_name": "HBoxModel",
          "state": {
            "_dom_classes": [],
            "_model_module": "@jupyter-widgets/controls",
            "_model_module_version": "1.5.0",
            "_model_name": "HBoxModel",
            "_view_count": null,
            "_view_module": "@jupyter-widgets/controls",
            "_view_module_version": "1.5.0",
            "_view_name": "HBoxView",
            "box_style": "",
            "children": [
              "IPY_MODEL_b64d3e46938c48ab95251819bf6b5bc8",
              "IPY_MODEL_77ed6ba19e7f4a158fa9f6ccc2a840fc",
              "IPY_MODEL_3710e1ef656f429894ab89019adaf199"
            ],
            "layout": "IPY_MODEL_1ffad99149fe45b3b26cf237635b5412"
          }
        },
        "6e82428b80894f49b95d8047de3159a3": {
          "model_module": "@jupyter-widgets/base",
          "model_module_version": "1.2.0",
          "model_name": "LayoutModel",
          "state": {
            "_model_module": "@jupyter-widgets/base",
            "_model_module_version": "1.2.0",
            "_model_name": "LayoutModel",
            "_view_count": null,
            "_view_module": "@jupyter-widgets/base",
            "_view_module_version": "1.2.0",
            "_view_name": "LayoutView",
            "align_content": null,
            "align_items": null,
            "align_self": null,
            "border": null,
            "bottom": null,
            "display": null,
            "flex": null,
            "flex_flow": null,
            "grid_area": null,
            "grid_auto_columns": null,
            "grid_auto_flow": null,
            "grid_auto_rows": null,
            "grid_column": null,
            "grid_gap": null,
            "grid_row": null,
            "grid_template_areas": null,
            "grid_template_columns": null,
            "grid_template_rows": null,
            "height": null,
            "justify_content": null,
            "justify_items": null,
            "left": null,
            "margin": null,
            "max_height": null,
            "max_width": null,
            "min_height": null,
            "min_width": null,
            "object_fit": null,
            "object_position": null,
            "order": null,
            "overflow": null,
            "overflow_x": null,
            "overflow_y": null,
            "padding": null,
            "right": null,
            "top": null,
            "visibility": null,
            "width": null
          }
        },
        "77e884ea91424560af8b20738384c813": {
          "model_module": "@jupyter-widgets/controls",
          "model_module_version": "1.5.0",
          "model_name": "ProgressStyleModel",
          "state": {
            "_model_module": "@jupyter-widgets/controls",
            "_model_module_version": "1.5.0",
            "_model_name": "ProgressStyleModel",
            "_view_count": null,
            "_view_module": "@jupyter-widgets/base",
            "_view_module_version": "1.2.0",
            "_view_name": "StyleView",
            "bar_color": null,
            "description_width": ""
          }
        },
        "77ed6ba19e7f4a158fa9f6ccc2a840fc": {
          "model_module": "@jupyter-widgets/controls",
          "model_module_version": "1.5.0",
          "model_name": "FloatProgressModel",
          "state": {
            "_dom_classes": [],
            "_model_module": "@jupyter-widgets/controls",
            "_model_module_version": "1.5.0",
            "_model_name": "FloatProgressModel",
            "_view_count": null,
            "_view_module": "@jupyter-widgets/controls",
            "_view_module_version": "1.5.0",
            "_view_name": "ProgressView",
            "bar_style": "success",
            "description": "",
            "description_tooltip": null,
            "layout": "IPY_MODEL_5afd2067635a4b059903429d9703a684",
            "max": 170498071,
            "min": 0,
            "orientation": "horizontal",
            "style": "IPY_MODEL_77e884ea91424560af8b20738384c813",
            "value": 170498071
          }
        },
        "7e727bb36e964757bc8f972ae2b1e28d": {
          "model_module": "@jupyter-widgets/controls",
          "model_module_version": "1.5.0",
          "model_name": "HTMLModel",
          "state": {
            "_dom_classes": [],
            "_model_module": "@jupyter-widgets/controls",
            "_model_module_version": "1.5.0",
            "_model_name": "HTMLModel",
            "_view_count": null,
            "_view_module": "@jupyter-widgets/controls",
            "_view_module_version": "1.5.0",
            "_view_name": "HTMLView",
            "description": "",
            "description_tooltip": null,
            "layout": "IPY_MODEL_eacf621d93264f21a1311fa95c340ed4",
            "placeholder": "​",
            "style": "IPY_MODEL_024592067b0e415f8a7925759d46f285",
            "value": " 50000/50000 [07:52&lt;00:00, 113.17it/s]"
          }
        },
        "8c6571483f544afba6276968ba864bd5": {
          "model_module": "@jupyter-widgets/controls",
          "model_module_version": "1.5.0",
          "model_name": "DescriptionStyleModel",
          "state": {
            "_model_module": "@jupyter-widgets/controls",
            "_model_module_version": "1.5.0",
            "_model_name": "DescriptionStyleModel",
            "_view_count": null,
            "_view_module": "@jupyter-widgets/base",
            "_view_module_version": "1.2.0",
            "_view_name": "StyleView",
            "description_width": ""
          }
        },
        "8f83294e54994c5499d5cbde501520c7": {
          "model_module": "@jupyter-widgets/controls",
          "model_module_version": "1.5.0",
          "model_name": "ProgressStyleModel",
          "state": {
            "_model_module": "@jupyter-widgets/controls",
            "_model_module_version": "1.5.0",
            "_model_name": "ProgressStyleModel",
            "_view_count": null,
            "_view_module": "@jupyter-widgets/base",
            "_view_module_version": "1.2.0",
            "_view_name": "StyleView",
            "bar_color": null,
            "description_width": ""
          }
        },
        "9d4f9d9e471c41a0bbfe8cee7a81b90d": {
          "model_module": "@jupyter-widgets/base",
          "model_module_version": "1.2.0",
          "model_name": "LayoutModel",
          "state": {
            "_model_module": "@jupyter-widgets/base",
            "_model_module_version": "1.2.0",
            "_model_name": "LayoutModel",
            "_view_count": null,
            "_view_module": "@jupyter-widgets/base",
            "_view_module_version": "1.2.0",
            "_view_name": "LayoutView",
            "align_content": null,
            "align_items": null,
            "align_self": null,
            "border": null,
            "bottom": null,
            "display": null,
            "flex": null,
            "flex_flow": null,
            "grid_area": null,
            "grid_auto_columns": null,
            "grid_auto_flow": null,
            "grid_auto_rows": null,
            "grid_column": null,
            "grid_gap": null,
            "grid_row": null,
            "grid_template_areas": null,
            "grid_template_columns": null,
            "grid_template_rows": null,
            "height": null,
            "justify_content": null,
            "justify_items": null,
            "left": null,
            "margin": null,
            "max_height": null,
            "max_width": null,
            "min_height": null,
            "min_width": null,
            "object_fit": null,
            "object_position": null,
            "order": null,
            "overflow": null,
            "overflow_x": null,
            "overflow_y": null,
            "padding": null,
            "right": null,
            "top": null,
            "visibility": null,
            "width": null
          }
        },
        "a64134aa86184aa082ca898a7282c9cf": {
          "model_module": "@jupyter-widgets/base",
          "model_module_version": "1.2.0",
          "model_name": "LayoutModel",
          "state": {
            "_model_module": "@jupyter-widgets/base",
            "_model_module_version": "1.2.0",
            "_model_name": "LayoutModel",
            "_view_count": null,
            "_view_module": "@jupyter-widgets/base",
            "_view_module_version": "1.2.0",
            "_view_name": "LayoutView",
            "align_content": null,
            "align_items": null,
            "align_self": null,
            "border": null,
            "bottom": null,
            "display": null,
            "flex": null,
            "flex_flow": null,
            "grid_area": null,
            "grid_auto_columns": null,
            "grid_auto_flow": null,
            "grid_auto_rows": null,
            "grid_column": null,
            "grid_gap": null,
            "grid_row": null,
            "grid_template_areas": null,
            "grid_template_columns": null,
            "grid_template_rows": null,
            "height": null,
            "justify_content": null,
            "justify_items": null,
            "left": null,
            "margin": null,
            "max_height": null,
            "max_width": null,
            "min_height": null,
            "min_width": null,
            "object_fit": null,
            "object_position": null,
            "order": null,
            "overflow": null,
            "overflow_x": null,
            "overflow_y": null,
            "padding": null,
            "right": null,
            "top": null,
            "visibility": null,
            "width": null
          }
        },
        "ac0aca7f50034ebeb067a13b102e7bd9": {
          "model_module": "@jupyter-widgets/controls",
          "model_module_version": "1.5.0",
          "model_name": "HTMLModel",
          "state": {
            "_dom_classes": [],
            "_model_module": "@jupyter-widgets/controls",
            "_model_module_version": "1.5.0",
            "_model_name": "HTMLModel",
            "_view_count": null,
            "_view_module": "@jupyter-widgets/controls",
            "_view_module_version": "1.5.0",
            "_view_name": "HTMLView",
            "description": "",
            "description_tooltip": null,
            "layout": "IPY_MODEL_6e82428b80894f49b95d8047de3159a3",
            "placeholder": "​",
            "style": "IPY_MODEL_8c6571483f544afba6276968ba864bd5",
            "value": "100%"
          }
        },
        "b64d3e46938c48ab95251819bf6b5bc8": {
          "model_module": "@jupyter-widgets/controls",
          "model_module_version": "1.5.0",
          "model_name": "HTMLModel",
          "state": {
            "_dom_classes": [],
            "_model_module": "@jupyter-widgets/controls",
            "_model_module_version": "1.5.0",
            "_model_name": "HTMLModel",
            "_view_count": null,
            "_view_module": "@jupyter-widgets/controls",
            "_view_module_version": "1.5.0",
            "_view_name": "HTMLView",
            "description": "",
            "description_tooltip": null,
            "layout": "IPY_MODEL_c39bec25f8f94374860ecc8a4cb9fe63",
            "placeholder": "​",
            "style": "IPY_MODEL_f909fd3109dc47bda537e488bcd4400b",
            "value": ""
          }
        },
        "b9f442c475bd490ebc906d9d53c15e41": {
          "model_module": "@jupyter-widgets/controls",
          "model_module_version": "1.5.0",
          "model_name": "DescriptionStyleModel",
          "state": {
            "_model_module": "@jupyter-widgets/controls",
            "_model_module_version": "1.5.0",
            "_model_name": "DescriptionStyleModel",
            "_view_count": null,
            "_view_module": "@jupyter-widgets/base",
            "_view_module_version": "1.2.0",
            "_view_name": "StyleView",
            "description_width": ""
          }
        },
        "bd5a7e4337084284b102ccfa20ab606d": {
          "model_module": "@jupyter-widgets/base",
          "model_module_version": "1.2.0",
          "model_name": "LayoutModel",
          "state": {
            "_model_module": "@jupyter-widgets/base",
            "_model_module_version": "1.2.0",
            "_model_name": "LayoutModel",
            "_view_count": null,
            "_view_module": "@jupyter-widgets/base",
            "_view_module_version": "1.2.0",
            "_view_name": "LayoutView",
            "align_content": null,
            "align_items": null,
            "align_self": null,
            "border": null,
            "bottom": null,
            "display": null,
            "flex": null,
            "flex_flow": null,
            "grid_area": null,
            "grid_auto_columns": null,
            "grid_auto_flow": null,
            "grid_auto_rows": null,
            "grid_column": null,
            "grid_gap": null,
            "grid_row": null,
            "grid_template_areas": null,
            "grid_template_columns": null,
            "grid_template_rows": null,
            "height": null,
            "justify_content": null,
            "justify_items": null,
            "left": null,
            "margin": null,
            "max_height": null,
            "max_width": null,
            "min_height": null,
            "min_width": null,
            "object_fit": null,
            "object_position": null,
            "order": null,
            "overflow": null,
            "overflow_x": null,
            "overflow_y": null,
            "padding": null,
            "right": null,
            "top": null,
            "visibility": null,
            "width": null
          }
        },
        "c39bec25f8f94374860ecc8a4cb9fe63": {
          "model_module": "@jupyter-widgets/base",
          "model_module_version": "1.2.0",
          "model_name": "LayoutModel",
          "state": {
            "_model_module": "@jupyter-widgets/base",
            "_model_module_version": "1.2.0",
            "_model_name": "LayoutModel",
            "_view_count": null,
            "_view_module": "@jupyter-widgets/base",
            "_view_module_version": "1.2.0",
            "_view_name": "LayoutView",
            "align_content": null,
            "align_items": null,
            "align_self": null,
            "border": null,
            "bottom": null,
            "display": null,
            "flex": null,
            "flex_flow": null,
            "grid_area": null,
            "grid_auto_columns": null,
            "grid_auto_flow": null,
            "grid_auto_rows": null,
            "grid_column": null,
            "grid_gap": null,
            "grid_row": null,
            "grid_template_areas": null,
            "grid_template_columns": null,
            "grid_template_rows": null,
            "height": null,
            "justify_content": null,
            "justify_items": null,
            "left": null,
            "margin": null,
            "max_height": null,
            "max_width": null,
            "min_height": null,
            "min_width": null,
            "object_fit": null,
            "object_position": null,
            "order": null,
            "overflow": null,
            "overflow_x": null,
            "overflow_y": null,
            "padding": null,
            "right": null,
            "top": null,
            "visibility": null,
            "width": null
          }
        },
        "dcd6600d529b4701b89479aee1ed1585": {
          "model_module": "@jupyter-widgets/controls",
          "model_module_version": "1.5.0",
          "model_name": "HBoxModel",
          "state": {
            "_dom_classes": [],
            "_model_module": "@jupyter-widgets/controls",
            "_model_module_version": "1.5.0",
            "_model_name": "HBoxModel",
            "_view_count": null,
            "_view_module": "@jupyter-widgets/controls",
            "_view_module_version": "1.5.0",
            "_view_name": "HBoxView",
            "box_style": "",
            "children": [
              "IPY_MODEL_ac0aca7f50034ebeb067a13b102e7bd9",
              "IPY_MODEL_2e77e1aeadac4f9f91689f95f5f9afd7",
              "IPY_MODEL_7e727bb36e964757bc8f972ae2b1e28d"
            ],
            "layout": "IPY_MODEL_9d4f9d9e471c41a0bbfe8cee7a81b90d"
          }
        },
        "eacf621d93264f21a1311fa95c340ed4": {
          "model_module": "@jupyter-widgets/base",
          "model_module_version": "1.2.0",
          "model_name": "LayoutModel",
          "state": {
            "_model_module": "@jupyter-widgets/base",
            "_model_module_version": "1.2.0",
            "_model_name": "LayoutModel",
            "_view_count": null,
            "_view_module": "@jupyter-widgets/base",
            "_view_module_version": "1.2.0",
            "_view_name": "LayoutView",
            "align_content": null,
            "align_items": null,
            "align_self": null,
            "border": null,
            "bottom": null,
            "display": null,
            "flex": null,
            "flex_flow": null,
            "grid_area": null,
            "grid_auto_columns": null,
            "grid_auto_flow": null,
            "grid_auto_rows": null,
            "grid_column": null,
            "grid_gap": null,
            "grid_row": null,
            "grid_template_areas": null,
            "grid_template_columns": null,
            "grid_template_rows": null,
            "height": null,
            "justify_content": null,
            "justify_items": null,
            "left": null,
            "margin": null,
            "max_height": null,
            "max_width": null,
            "min_height": null,
            "min_width": null,
            "object_fit": null,
            "object_position": null,
            "order": null,
            "overflow": null,
            "overflow_x": null,
            "overflow_y": null,
            "padding": null,
            "right": null,
            "top": null,
            "visibility": null,
            "width": null
          }
        },
        "f909fd3109dc47bda537e488bcd4400b": {
          "model_module": "@jupyter-widgets/controls",
          "model_module_version": "1.5.0",
          "model_name": "DescriptionStyleModel",
          "state": {
            "_model_module": "@jupyter-widgets/controls",
            "_model_module_version": "1.5.0",
            "_model_name": "DescriptionStyleModel",
            "_view_count": null,
            "_view_module": "@jupyter-widgets/base",
            "_view_module_version": "1.2.0",
            "_view_name": "StyleView",
            "description_width": ""
          }
        },
        "7672504f60fe4514a297242555b79ef3": {
          "model_module": "@jupyter-widgets/controls",
          "model_name": "HBoxModel",
          "model_module_version": "1.5.0",
          "state": {
            "_dom_classes": [],
            "_model_module": "@jupyter-widgets/controls",
            "_model_module_version": "1.5.0",
            "_model_name": "HBoxModel",
            "_view_count": null,
            "_view_module": "@jupyter-widgets/controls",
            "_view_module_version": "1.5.0",
            "_view_name": "HBoxView",
            "box_style": "",
            "children": [
              "IPY_MODEL_4c3d3bb000e14ee1b9817c1b0d5e7e1c",
              "IPY_MODEL_de991eeb868d41e6a356a9b57d0f9e14",
              "IPY_MODEL_2d366e95f3a34ae8b528d0e83ef392ed"
            ],
            "layout": "IPY_MODEL_3576ec44524043aba558258869eba8ce"
          }
        },
        "4c3d3bb000e14ee1b9817c1b0d5e7e1c": {
          "model_module": "@jupyter-widgets/controls",
          "model_name": "HTMLModel",
          "model_module_version": "1.5.0",
          "state": {
            "_dom_classes": [],
            "_model_module": "@jupyter-widgets/controls",
            "_model_module_version": "1.5.0",
            "_model_name": "HTMLModel",
            "_view_count": null,
            "_view_module": "@jupyter-widgets/controls",
            "_view_module_version": "1.5.0",
            "_view_name": "HTMLView",
            "description": "",
            "description_tooltip": null,
            "layout": "IPY_MODEL_21b21bc4bd3c490889debee3d67e20ae",
            "placeholder": "​",
            "style": "IPY_MODEL_8e719b4f47a24cc192d8022f52bff085",
            "value": "100%"
          }
        },
        "de991eeb868d41e6a356a9b57d0f9e14": {
          "model_module": "@jupyter-widgets/controls",
          "model_name": "FloatProgressModel",
          "model_module_version": "1.5.0",
          "state": {
            "_dom_classes": [],
            "_model_module": "@jupyter-widgets/controls",
            "_model_module_version": "1.5.0",
            "_model_name": "FloatProgressModel",
            "_view_count": null,
            "_view_module": "@jupyter-widgets/controls",
            "_view_module_version": "1.5.0",
            "_view_name": "ProgressView",
            "bar_style": "success",
            "description": "",
            "description_tooltip": null,
            "layout": "IPY_MODEL_f759a7c30da64157b18d94caa0641154",
            "max": 10000,
            "min": 0,
            "orientation": "horizontal",
            "style": "IPY_MODEL_4ed4ccd52ea046c78f4936be8e3ddde3",
            "value": 10000
          }
        },
        "2d366e95f3a34ae8b528d0e83ef392ed": {
          "model_module": "@jupyter-widgets/controls",
          "model_name": "HTMLModel",
          "model_module_version": "1.5.0",
          "state": {
            "_dom_classes": [],
            "_model_module": "@jupyter-widgets/controls",
            "_model_module_version": "1.5.0",
            "_model_name": "HTMLModel",
            "_view_count": null,
            "_view_module": "@jupyter-widgets/controls",
            "_view_module_version": "1.5.0",
            "_view_name": "HTMLView",
            "description": "",
            "description_tooltip": null,
            "layout": "IPY_MODEL_2bc68a675a364cd6a44e31f688ba7b67",
            "placeholder": "​",
            "style": "IPY_MODEL_5f7c64e0ed1c429cb31280fcb93f0729",
            "value": " 10000/10000 [01:36&lt;00:00, 112.83it/s]"
          }
        },
        "3576ec44524043aba558258869eba8ce": {
          "model_module": "@jupyter-widgets/base",
          "model_name": "LayoutModel",
          "model_module_version": "1.2.0",
          "state": {
            "_model_module": "@jupyter-widgets/base",
            "_model_module_version": "1.2.0",
            "_model_name": "LayoutModel",
            "_view_count": null,
            "_view_module": "@jupyter-widgets/base",
            "_view_module_version": "1.2.0",
            "_view_name": "LayoutView",
            "align_content": null,
            "align_items": null,
            "align_self": null,
            "border": null,
            "bottom": null,
            "display": null,
            "flex": null,
            "flex_flow": null,
            "grid_area": null,
            "grid_auto_columns": null,
            "grid_auto_flow": null,
            "grid_auto_rows": null,
            "grid_column": null,
            "grid_gap": null,
            "grid_row": null,
            "grid_template_areas": null,
            "grid_template_columns": null,
            "grid_template_rows": null,
            "height": null,
            "justify_content": null,
            "justify_items": null,
            "left": null,
            "margin": null,
            "max_height": null,
            "max_width": null,
            "min_height": null,
            "min_width": null,
            "object_fit": null,
            "object_position": null,
            "order": null,
            "overflow": null,
            "overflow_x": null,
            "overflow_y": null,
            "padding": null,
            "right": null,
            "top": null,
            "visibility": null,
            "width": null
          }
        },
        "21b21bc4bd3c490889debee3d67e20ae": {
          "model_module": "@jupyter-widgets/base",
          "model_name": "LayoutModel",
          "model_module_version": "1.2.0",
          "state": {
            "_model_module": "@jupyter-widgets/base",
            "_model_module_version": "1.2.0",
            "_model_name": "LayoutModel",
            "_view_count": null,
            "_view_module": "@jupyter-widgets/base",
            "_view_module_version": "1.2.0",
            "_view_name": "LayoutView",
            "align_content": null,
            "align_items": null,
            "align_self": null,
            "border": null,
            "bottom": null,
            "display": null,
            "flex": null,
            "flex_flow": null,
            "grid_area": null,
            "grid_auto_columns": null,
            "grid_auto_flow": null,
            "grid_auto_rows": null,
            "grid_column": null,
            "grid_gap": null,
            "grid_row": null,
            "grid_template_areas": null,
            "grid_template_columns": null,
            "grid_template_rows": null,
            "height": null,
            "justify_content": null,
            "justify_items": null,
            "left": null,
            "margin": null,
            "max_height": null,
            "max_width": null,
            "min_height": null,
            "min_width": null,
            "object_fit": null,
            "object_position": null,
            "order": null,
            "overflow": null,
            "overflow_x": null,
            "overflow_y": null,
            "padding": null,
            "right": null,
            "top": null,
            "visibility": null,
            "width": null
          }
        },
        "8e719b4f47a24cc192d8022f52bff085": {
          "model_module": "@jupyter-widgets/controls",
          "model_name": "DescriptionStyleModel",
          "model_module_version": "1.5.0",
          "state": {
            "_model_module": "@jupyter-widgets/controls",
            "_model_module_version": "1.5.0",
            "_model_name": "DescriptionStyleModel",
            "_view_count": null,
            "_view_module": "@jupyter-widgets/base",
            "_view_module_version": "1.2.0",
            "_view_name": "StyleView",
            "description_width": ""
          }
        },
        "f759a7c30da64157b18d94caa0641154": {
          "model_module": "@jupyter-widgets/base",
          "model_name": "LayoutModel",
          "model_module_version": "1.2.0",
          "state": {
            "_model_module": "@jupyter-widgets/base",
            "_model_module_version": "1.2.0",
            "_model_name": "LayoutModel",
            "_view_count": null,
            "_view_module": "@jupyter-widgets/base",
            "_view_module_version": "1.2.0",
            "_view_name": "LayoutView",
            "align_content": null,
            "align_items": null,
            "align_self": null,
            "border": null,
            "bottom": null,
            "display": null,
            "flex": null,
            "flex_flow": null,
            "grid_area": null,
            "grid_auto_columns": null,
            "grid_auto_flow": null,
            "grid_auto_rows": null,
            "grid_column": null,
            "grid_gap": null,
            "grid_row": null,
            "grid_template_areas": null,
            "grid_template_columns": null,
            "grid_template_rows": null,
            "height": null,
            "justify_content": null,
            "justify_items": null,
            "left": null,
            "margin": null,
            "max_height": null,
            "max_width": null,
            "min_height": null,
            "min_width": null,
            "object_fit": null,
            "object_position": null,
            "order": null,
            "overflow": null,
            "overflow_x": null,
            "overflow_y": null,
            "padding": null,
            "right": null,
            "top": null,
            "visibility": null,
            "width": null
          }
        },
        "4ed4ccd52ea046c78f4936be8e3ddde3": {
          "model_module": "@jupyter-widgets/controls",
          "model_name": "ProgressStyleModel",
          "model_module_version": "1.5.0",
          "state": {
            "_model_module": "@jupyter-widgets/controls",
            "_model_module_version": "1.5.0",
            "_model_name": "ProgressStyleModel",
            "_view_count": null,
            "_view_module": "@jupyter-widgets/base",
            "_view_module_version": "1.2.0",
            "_view_name": "StyleView",
            "bar_color": null,
            "description_width": ""
          }
        },
        "2bc68a675a364cd6a44e31f688ba7b67": {
          "model_module": "@jupyter-widgets/base",
          "model_name": "LayoutModel",
          "model_module_version": "1.2.0",
          "state": {
            "_model_module": "@jupyter-widgets/base",
            "_model_module_version": "1.2.0",
            "_model_name": "LayoutModel",
            "_view_count": null,
            "_view_module": "@jupyter-widgets/base",
            "_view_module_version": "1.2.0",
            "_view_name": "LayoutView",
            "align_content": null,
            "align_items": null,
            "align_self": null,
            "border": null,
            "bottom": null,
            "display": null,
            "flex": null,
            "flex_flow": null,
            "grid_area": null,
            "grid_auto_columns": null,
            "grid_auto_flow": null,
            "grid_auto_rows": null,
            "grid_column": null,
            "grid_gap": null,
            "grid_row": null,
            "grid_template_areas": null,
            "grid_template_columns": null,
            "grid_template_rows": null,
            "height": null,
            "justify_content": null,
            "justify_items": null,
            "left": null,
            "margin": null,
            "max_height": null,
            "max_width": null,
            "min_height": null,
            "min_width": null,
            "object_fit": null,
            "object_position": null,
            "order": null,
            "overflow": null,
            "overflow_x": null,
            "overflow_y": null,
            "padding": null,
            "right": null,
            "top": null,
            "visibility": null,
            "width": null
          }
        },
        "5f7c64e0ed1c429cb31280fcb93f0729": {
          "model_module": "@jupyter-widgets/controls",
          "model_name": "DescriptionStyleModel",
          "model_module_version": "1.5.0",
          "state": {
            "_model_module": "@jupyter-widgets/controls",
            "_model_module_version": "1.5.0",
            "_model_name": "DescriptionStyleModel",
            "_view_count": null,
            "_view_module": "@jupyter-widgets/base",
            "_view_module_version": "1.2.0",
            "_view_name": "StyleView",
            "description_width": ""
          }
        }
      }
    }
  },
  "nbformat": 4,
  "nbformat_minor": 0
}