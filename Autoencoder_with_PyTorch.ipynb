{
  "cells": [
    {
      "cell_type": "markdown",
      "metadata": {
        "id": "view-in-github",
        "colab_type": "text"
      },
      "source": [
        "<a href=\"https://colab.research.google.com/github/hewanshrestha/Visual-Computing-Exercises/blob/master/Autoencoder_with_PyTorch.ipynb\" target=\"_parent\"><img src=\"https://colab.research.google.com/assets/colab-badge.svg\" alt=\"Open In Colab\"/></a>"
      ]
    },
    {
      "cell_type": "markdown",
      "metadata": {
        "id": "S2Wx_Mdpg2Vt"
      },
      "source": [
        "**Loading Packages**"
      ]
    },
    {
      "cell_type": "code",
      "execution_count": 1,
      "metadata": {
        "id": "Ar7c90sMdvkk"
      },
      "outputs": [],
      "source": [
        "import os\n",
        "import copy\n",
        "import torch\n",
        "import codecs\n",
        "import numpy as np\n",
        "import torch.nn as nn\n",
        "import torch.optim as optim\n",
        "import matplotlib.pyplot as plt\n",
        "from torchvision import datasets\n",
        "%matplotlib inline"
      ]
    },
    {
      "cell_type": "markdown",
      "source": [
        "**Loading Data**"
      ],
      "metadata": {
        "id": "LLW6dC_gOOdq"
      }
    },
    {
      "cell_type": "code",
      "execution_count": 2,
      "metadata": {
        "id": "mViUeT3AioME",
        "colab": {
          "base_uri": "https://localhost:8080/",
          "height": 423,
          "referenced_widgets": [
            "65cab4b0c03b4eb1ab326992db2d04da",
            "3134099d00b7462dbd869362c713d035",
            "180336c503fa46e59d5409057d53f0f0",
            "95f55d574b3d4784aed4aadc07afd011",
            "5314e39b9416421f8d0be40045952da0",
            "4d54afea2e794400a6524323491253ba",
            "ba9360c4f6ad4195902ec1dae7da0d97",
            "d7ccd88617cc4c18bb72b135be5eb1a9",
            "222d7e4076784e4caff558b0ed18bef1",
            "8f463c005b0141e1b83ddb6b99ea0f67",
            "9826742d5dd04e47b56e1b2f8c968850",
            "af11c7a0f73d4ce7ab0112b4bb9acad5",
            "3488d7cceb154777aba3669b6b6c986a",
            "08b6a655cc7b44b09fb3a7ef46a9bce7",
            "60105de5fbb4437a82054527bfe3a756",
            "0a3ce922137d4d6b964e0eabc8553e70",
            "b716abb5694d4678b7ba17de6d3162d3",
            "596c93d4b9174b38a19e6168f0f4327c",
            "b31a18b9251d413f87a31e77ece35ed4",
            "8db83a6ef92745a8bd253f3b5aa3b79a",
            "18667b11d8804c55a12d3f4ed4e6693f",
            "4858e908c34346e5b5dffe61b6703171",
            "3dee795cea2d431e96e4bf79d9e15046",
            "f4f22cc0c08d483bb4470dab14a277f0",
            "e41bacdafc4a4c648420cbac884fb00c",
            "d406492a9e5d4d6087f8c0eefb272fdf",
            "b0615f6071164553931d230bf58cc573",
            "137fd8244f24440cac1d160e4bc20ffa",
            "a5343f04348b40a6a27057b689b84d6b",
            "61e98d0c7dec4e77a5479d6308e2147b",
            "0b23df3ac6a64b2cb720ab7430a9b573",
            "d67b9f20949f4e6abf93ea1b7a326716",
            "179d03687e664a90843ad7d377837920",
            "64040908035a41ba88da4e3c96be8d6d",
            "5208056cccfe460584fe25f09de6889a",
            "c59dbebbe289482b9d3bdeaa674f6c19",
            "27d58b95fa974e1aa640a9fd34b51f27",
            "a5ed5dc9d8ac4956b1a8f9e60eb46da6",
            "2126e8e6041d4a97a04701fb9501360e",
            "f7c6a4dd50d0482fae09ab651412b2f2",
            "c95b72becb4c4b18a5671c65cc565bad",
            "3625daeddd0b4190920fbd66a01dad97",
            "786abf478bdc49cf9faa783305c05e68",
            "312b26928a234ae7b65243b203289cf0"
          ]
        },
        "outputId": "54d541bf-3278-4954-ee91-e569bf80a554"
      },
      "outputs": [
        {
          "output_type": "stream",
          "name": "stdout",
          "text": [
            "Downloading http://yann.lecun.com/exdb/mnist/train-images-idx3-ubyte.gz\n",
            "Downloading http://yann.lecun.com/exdb/mnist/train-images-idx3-ubyte.gz to ./MNIST/MNIST/raw/train-images-idx3-ubyte.gz\n"
          ]
        },
        {
          "output_type": "display_data",
          "data": {
            "text/plain": [
              "  0%|          | 0/9912422 [00:00<?, ?it/s]"
            ],
            "application/vnd.jupyter.widget-view+json": {
              "version_major": 2,
              "version_minor": 0,
              "model_id": "65cab4b0c03b4eb1ab326992db2d04da"
            }
          },
          "metadata": {}
        },
        {
          "output_type": "stream",
          "name": "stdout",
          "text": [
            "Extracting ./MNIST/MNIST/raw/train-images-idx3-ubyte.gz to ./MNIST/MNIST/raw\n",
            "\n",
            "Downloading http://yann.lecun.com/exdb/mnist/train-labels-idx1-ubyte.gz\n",
            "Downloading http://yann.lecun.com/exdb/mnist/train-labels-idx1-ubyte.gz to ./MNIST/MNIST/raw/train-labels-idx1-ubyte.gz\n"
          ]
        },
        {
          "output_type": "display_data",
          "data": {
            "text/plain": [
              "  0%|          | 0/28881 [00:00<?, ?it/s]"
            ],
            "application/vnd.jupyter.widget-view+json": {
              "version_major": 2,
              "version_minor": 0,
              "model_id": "af11c7a0f73d4ce7ab0112b4bb9acad5"
            }
          },
          "metadata": {}
        },
        {
          "output_type": "stream",
          "name": "stdout",
          "text": [
            "Extracting ./MNIST/MNIST/raw/train-labels-idx1-ubyte.gz to ./MNIST/MNIST/raw\n",
            "\n",
            "Downloading http://yann.lecun.com/exdb/mnist/t10k-images-idx3-ubyte.gz\n",
            "Downloading http://yann.lecun.com/exdb/mnist/t10k-images-idx3-ubyte.gz to ./MNIST/MNIST/raw/t10k-images-idx3-ubyte.gz\n"
          ]
        },
        {
          "output_type": "display_data",
          "data": {
            "text/plain": [
              "  0%|          | 0/1648877 [00:00<?, ?it/s]"
            ],
            "application/vnd.jupyter.widget-view+json": {
              "version_major": 2,
              "version_minor": 0,
              "model_id": "3dee795cea2d431e96e4bf79d9e15046"
            }
          },
          "metadata": {}
        },
        {
          "output_type": "stream",
          "name": "stdout",
          "text": [
            "Extracting ./MNIST/MNIST/raw/t10k-images-idx3-ubyte.gz to ./MNIST/MNIST/raw\n",
            "\n",
            "Downloading http://yann.lecun.com/exdb/mnist/t10k-labels-idx1-ubyte.gz\n",
            "Downloading http://yann.lecun.com/exdb/mnist/t10k-labels-idx1-ubyte.gz to ./MNIST/MNIST/raw/t10k-labels-idx1-ubyte.gz\n"
          ]
        },
        {
          "output_type": "display_data",
          "data": {
            "text/plain": [
              "  0%|          | 0/4542 [00:00<?, ?it/s]"
            ],
            "application/vnd.jupyter.widget-view+json": {
              "version_major": 2,
              "version_minor": 0,
              "model_id": "64040908035a41ba88da4e3c96be8d6d"
            }
          },
          "metadata": {}
        },
        {
          "output_type": "stream",
          "name": "stdout",
          "text": [
            "Extracting ./MNIST/MNIST/raw/t10k-labels-idx1-ubyte.gz to ./MNIST/MNIST/raw\n",
            "\n"
          ]
        }
      ],
      "source": [
        "download =  datasets.MNIST('./MNIST/', train=True, download=True) "
      ]
    },
    {
      "cell_type": "code",
      "source": [
        "# Assigning datapath\n",
        "datapath = 'MNIST/MNIST/raw/'\n"
      ],
      "metadata": {
        "id": "kplwZ0Vi9v1k"
      },
      "execution_count": 3,
      "outputs": []
    },
    {
      "cell_type": "code",
      "source": [
        "# Getting image hex file into integer space representation\n",
        "def get_int(b):\n",
        "    return int(codecs.encode(b, 'hex'), 16)\n"
      ],
      "metadata": {
        "id": "tYypBf8A_Z-2"
      },
      "execution_count": 4,
      "outputs": []
    },
    {
      "cell_type": "code",
      "source": [
        "# Getting string file into matrix format\n",
        "def parse_byte(b):\n",
        "    if isinstance(b, str):\n",
        "        return ord(b)\n",
        "    return b"
      ],
      "metadata": {
        "id": "VO3DFc5f_bF2"
      },
      "execution_count": 5,
      "outputs": []
    },
    {
      "cell_type": "code",
      "source": [
        "# Reading image file from the datapath\n",
        "def read_image_file(path):\n",
        "    with open(path, 'rb') as f:\n",
        "        data = f.read()\n",
        "        assert get_int(data[:4]) == 2051\n",
        "        length = get_int(data[4:8])\n",
        "        num_rows = get_int(data[8:12])\n",
        "        num_cols = get_int(data[12:16])\n",
        "        images = []\n",
        "        idx = 16\n",
        "        for l in range(length):\n",
        "            img = []\n",
        "            images.append(img)\n",
        "            for r in range(num_rows):\n",
        "                row = []\n",
        "                img.append(row)\n",
        "                for c in range(num_cols):\n",
        "                    row.append(parse_byte(data[idx]))\n",
        "                    idx += 1\n",
        "        assert len(images) == length\n",
        "        return torch.ByteTensor(images).view(-1,784)"
      ],
      "metadata": {
        "id": "kw44nZ78_czh"
      },
      "execution_count": 6,
      "outputs": []
    },
    {
      "cell_type": "code",
      "source": [
        "# Reading image labels from the datapath\n",
        "def read_label_file(path):\n",
        "    with open(path, 'rb') as f:\n",
        "        data = f.read()\n",
        "        assert get_int(data[:4]) == 2049\n",
        "        length = get_int(data[4:8])\n",
        "        labels = [parse_byte(b) for b in data[8:]]\n",
        "        assert len(labels) == length\n",
        "        return torch.LongTensor(labels)\n"
      ],
      "metadata": {
        "id": "vquwT9jhAHch"
      },
      "execution_count": 7,
      "outputs": []
    },
    {
      "cell_type": "code",
      "source": [
        "# Loading images and labels into training and testing set\n",
        "train_images = read_image_file(os.path.join(datapath, 'train-images-idx3-ubyte'))\n",
        "train_labels = read_label_file(os.path.join(datapath, 'train-labels-idx1-ubyte'))\n",
        "test_images = read_image_file(os.path.join(datapath, 't10k-images-idx3-ubyte'))\n",
        "test_labels = read_label_file(os.path.join(datapath, 't10k-labels-idx1-ubyte'))\n"
      ],
      "metadata": {
        "id": "nGYK1QVsANic"
      },
      "execution_count": 8,
      "outputs": []
    },
    {
      "cell_type": "code",
      "source": [
        "# Displaying training and testing set\n",
        "print(train_images.size())\n",
        "print(train_labels.size())\n",
        "print(test_images.size())\n",
        "print(test_labels.size())\n"
      ],
      "metadata": {
        "colab": {
          "base_uri": "https://localhost:8080/"
        },
        "id": "DU7an9HkANYF",
        "outputId": "eca8c983-4b66-4e85-a967-e3e4749edb27"
      },
      "execution_count": 9,
      "outputs": [
        {
          "output_type": "stream",
          "name": "stdout",
          "text": [
            "torch.Size([60000, 784])\n",
            "torch.Size([60000])\n",
            "torch.Size([10000, 784])\n",
            "torch.Size([10000])\n"
          ]
        }
      ]
    },
    {
      "cell_type": "code",
      "source": [
        "# Checking availability of GPU\n",
        "use_gpu = torch.cuda.is_available()\n",
        "if use_gpu:\n",
        "    print('GPU is available!')\n",
        "    device = \"cuda\"    \n",
        "else:\n",
        "    print('GPU is not available!')\n",
        "    device = \"cpu\""
      ],
      "metadata": {
        "colab": {
          "base_uri": "https://localhost:8080/"
        },
        "id": "-KO4OGgKD1Jx",
        "outputId": "f322a701-4fab-4959-ea7a-cf658147dc87"
      },
      "execution_count": 10,
      "outputs": [
        {
          "output_type": "stream",
          "name": "stdout",
          "text": [
            "GPU is available!\n"
          ]
        }
      ]
    },
    {
      "cell_type": "markdown",
      "source": [
        "**Defining Autoencoder**"
      ],
      "metadata": {
        "id": "w3rSW3ObObQK"
      }
    },
    {
      "cell_type": "code",
      "execution_count": 11,
      "metadata": {
        "id": "GSAQtBvqjB81",
        "colab": {
          "base_uri": "https://localhost:8080/"
        },
        "outputId": "ac7c168f-8b50-4929-d6d3-5f82c6362ba0"
      },
      "outputs": [
        {
          "output_type": "stream",
          "name": "stdout",
          "text": [
            "autoencoder(\n",
            "  (encoder): Sequential(\n",
            "    (0): Linear(in_features=784, out_features=100, bias=True)\n",
            "    (1): ReLU()\n",
            "  )\n",
            "  (decoder): Sequential(\n",
            "    (0): Linear(in_features=100, out_features=784, bias=True)\n",
            "    (1): ReLU()\n",
            "  )\n",
            ")\n"
          ]
        }
      ],
      "source": [
        "class autoencoder(nn.Module):\n",
        "    def __init__(self):\n",
        "        super(autoencoder, self).__init__()\n",
        "        self.encoder = nn.Sequential(\n",
        "            nn.Linear(28*28, 100),\n",
        "            nn.ReLU())\n",
        "        self.decoder = nn.Sequential(\n",
        "            nn.Linear(100, 28*28),\n",
        "            nn.ReLU())\n",
        "\n",
        "    def forward(self, x):\n",
        "        x = self.encoder(x)\n",
        "        x = self.decoder(x)\n",
        "        return x\n",
        "\n",
        "\n",
        "net = autoencoder()\n",
        "print(net)\n",
        "\n",
        "if use_gpu:\n",
        "    net = net.double().cuda()\n",
        "else:\n",
        "    net = net.double()\n",
        "        \n",
        "init_weights = copy.deepcopy(net.encoder[0].weight.data)\n"
      ]
    },
    {
      "cell_type": "markdown",
      "source": [
        "**Defining Optimizer**"
      ],
      "metadata": {
        "id": "KLyVREBYOufO"
      }
    },
    {
      "cell_type": "code",
      "execution_count": 12,
      "metadata": {
        "id": "Vn8oKcu_jMex"
      },
      "outputs": [],
      "source": [
        "criterion = nn.MSELoss() # Mean Square Error Loss\n",
        "optimizer = optim.SGD(net.parameters(), lr=0.5, momentum=0.9)"
      ]
    },
    {
      "cell_type": "markdown",
      "source": [
        "**Training Autoencoder**"
      ],
      "metadata": {
        "id": "P4R_UBTrEPlR"
      }
    },
    {
      "cell_type": "code",
      "execution_count": 13,
      "metadata": {
        "colab": {
          "base_uri": "https://localhost:8080/"
        },
        "id": "yLlOXY_4s6AM",
        "outputId": "e483b46a-45ca-483a-d83c-c10a22b94cea"
      },
      "outputs": [
        {
          "output_type": "stream",
          "name": "stdout",
          "text": [
            "At Iteration : 1 / 30  ;  Mean-Squared Error : 0.079543\n",
            "At Iteration : 2 / 30  ;  Mean-Squared Error : 0.057938\n",
            "At Iteration : 3 / 30  ;  Mean-Squared Error : 0.044910\n",
            "At Iteration : 4 / 30  ;  Mean-Squared Error : 0.037722\n",
            "At Iteration : 5 / 30  ;  Mean-Squared Error : 0.033371\n",
            "At Iteration : 6 / 30  ;  Mean-Squared Error : 0.030568\n",
            "At Iteration : 7 / 30  ;  Mean-Squared Error : 0.028320\n",
            "At Iteration : 8 / 30  ;  Mean-Squared Error : 0.026461\n",
            "At Iteration : 9 / 30  ;  Mean-Squared Error : 0.024989\n",
            "At Iteration : 10 / 30  ;  Mean-Squared Error : 0.023938\n",
            "At Iteration : 11 / 30  ;  Mean-Squared Error : 0.023095\n",
            "At Iteration : 12 / 30  ;  Mean-Squared Error : 0.022404\n",
            "At Iteration : 13 / 30  ;  Mean-Squared Error : 0.021828\n",
            "At Iteration : 14 / 30  ;  Mean-Squared Error : 0.021336\n",
            "At Iteration : 15 / 30  ;  Mean-Squared Error : 0.020910\n",
            "At Iteration : 16 / 30  ;  Mean-Squared Error : 0.020535\n",
            "At Iteration : 17 / 30  ;  Mean-Squared Error : 0.020201\n",
            "At Iteration : 18 / 30  ;  Mean-Squared Error : 0.019901\n",
            "At Iteration : 19 / 30  ;  Mean-Squared Error : 0.019631\n",
            "At Iteration : 20 / 30  ;  Mean-Squared Error : 0.019385\n",
            "At Iteration : 21 / 30  ;  Mean-Squared Error : 0.019160\n",
            "At Iteration : 22 / 30  ;  Mean-Squared Error : 0.018950\n",
            "At Iteration : 23 / 30  ;  Mean-Squared Error : 0.018752\n",
            "At Iteration : 24 / 30  ;  Mean-Squared Error : 0.018566\n",
            "At Iteration : 25 / 30  ;  Mean-Squared Error : 0.018385\n",
            "At Iteration : 26 / 30  ;  Mean-Squared Error : 0.018206\n",
            "At Iteration : 27 / 30  ;  Mean-Squared Error : 0.018032\n",
            "At Iteration : 28 / 30  ;  Mean-Squared Error : 0.017876\n",
            "At Iteration : 29 / 30  ;  Mean-Squared Error : 0.017742\n",
            "At Iteration : 30 / 30  ;  Mean-Squared Error : 0.017621\n",
            "Finished Training\n"
          ]
        }
      ],
      "source": [
        "iterations = 30\n",
        "BatchSize = 1000\n",
        "for epoch in range(iterations):\n",
        "    runningLoss = 0\n",
        "    for i in range(int(train_images.shape[0]/BatchSize)):\n",
        "        inputs = torch.index_select(train_images,0,torch.linspace(i*BatchSize,(i+1)*BatchSize - 1,steps=BatchSize)\n",
        "                                  .long()).double()\n",
        "        inputs = inputs/255\n",
        "        inputs = inputs.to(device)\n",
        "        \n",
        "        optimizer.zero_grad()\n",
        "        outputs = net(inputs)\n",
        "        loss = criterion(outputs, inputs)\n",
        "        loss.backward()\n",
        "        optimizer.step()\n",
        "        runningLoss += loss.item()\n",
        "    print('At Iteration : %d / %d  ;  Mean-Squared Error : %f'%(epoch + 1,iterations,runningLoss/\n",
        "                                                                (train_images.shape[0]/BatchSize)))\n",
        "print('Finished Training')"
      ]
    },
    {
      "cell_type": "markdown",
      "source": [
        "**Testing Autoencoder**"
      ],
      "metadata": {
        "id": "6qlhbhEgEbCv"
      }
    },
    {
      "cell_type": "code",
      "execution_count": 14,
      "metadata": {
        "colab": {
          "base_uri": "https://localhost:8080/",
          "height": 216
        },
        "id": "_wBxsWfkvMi9",
        "outputId": "4bce05f9-73d4-45ae-bf23-7c163d28edad"
      },
      "outputs": [
        {
          "output_type": "display_data",
          "data": {
            "text/plain": [
              "<Figure size 432x288 with 2 Axes>"
            ],
            "image/png": "[encoded data removed]"
          },
          "metadata": {
            "needs_background": "light"
          }
        }
      ],
      "source": [
        "test_img = torch.index_select(test_images,0,torch.LongTensor([1]))\n",
        "\n",
        "output_img = net((test_img.double().to(device))/255).data\n",
        "output_img = (output_img*255).byte()\n",
        "output_img = output_img.view(-1,28,28)\n",
        "if device == 'cuda':\n",
        "    outputImg = output_img.cpu()\n",
        "\n",
        "\n",
        "test_img = test_img.view(-1,28,28)\n",
        "\n",
        "fig = plt.figure()\n",
        "plot=fig.add_subplot(1,2,1)\n",
        "img = np.array(test_img.numpy())[0]\n",
        "plot.set_title('Original Image')\n",
        "imgplot = plt.imshow(img,cmap='gray')\n",
        "\n",
        "plot=fig.add_subplot(1,2,2)\n",
        "img = np.array(outputImg.numpy())[0]\n",
        "plot.set_title('Reconstructed Image')\n",
        "imgplot = plt.imshow(img,cmap='gray')\n",
        "plt.show()\n"
      ]
    },
    {
      "cell_type": "markdown",
      "source": [
        "**Visualizing Encoder Weights**"
      ],
      "metadata": {
        "id": "wMQAWeQ3Eyt8"
      }
    },
    {
      "cell_type": "code",
      "source": [
        "trained_weights = copy.deepcopy(net.encoder[0].weight.data)\n",
        "init_weights = (1 + init_weights)*127.5\n",
        "trained_weights = (1 + trained_weights)*127.5\n",
        "\n",
        "\n",
        "if use_gpu:\n",
        "    init_weights = init_weights.view(-1,280,280).byte().cpu()\n",
        "    trained_weights = trained_weights.view(-1,280,280).byte().cpu()\n",
        "else:\n",
        "    init_weights = init_weights.view(-1,280,280).byte()\n",
        "    trained_weights = trained_weights.view(-1,280,280).byte()\n",
        "\n",
        "d_weights = init_weights - trained_weights \n",
        "\n",
        "fig = plt.figure()\n",
        "plot=fig.add_subplot(1,3,1)\n",
        "img = np.array(init_weights.numpy())[0]\n",
        "plot.set_title('Initial Weights')\n",
        "imgplot = plt.imshow(img,cmap='gray')\n",
        "\n",
        "plot=fig.add_subplot(1,3,2)\n",
        "img = np.array(trained_weights.numpy())[0]\n",
        "plot.set_title('Trained Weights')\n",
        "imgplot = plt.imshow(img,cmap='gray')\n",
        "\n",
        "plot=fig.add_subplot(1,3,3)\n",
        "img = np.array(d_weights.numpy())[0]\n",
        "plot.set_title('Weight update')\n",
        "imgplot = plt.imshow(img,cmap='gray')\n",
        "plt.show()\n"
      ],
      "metadata": {
        "colab": {
          "base_uri": "https://localhost:8080/",
          "height": 162
        },
        "id": "yv3PvnMnEwR_",
        "outputId": "617c5fad-1a58-4d52-b8b7-903c9b7d6038"
      },
      "execution_count": 15,
      "outputs": [
        {
          "output_type": "display_data",
          "data": {
            "text/plain": [
              "<Figure size 432x288 with 3 Axes>"
            ],
            "image/png": "[encoded data removed]"
          },
          "metadata": {
            "needs_background": "light"
          }
        }
      ]
    },
    {
      "cell_type": "markdown",
      "metadata": {
        "id": "sUayLVNU0Iz4"
      },
      "source": [
        "**Removing Decoder and Adding Classification Layer**"
      ]
    },
    {
      "cell_type": "code",
      "execution_count": 23,
      "metadata": {
        "id": "4SaDK74q0FFQ",
        "colab": {
          "base_uri": "https://localhost:8080/"
        },
        "outputId": "17938ce5-09f5-4cc7-845e-d46a65567fe1"
      },
      "outputs": [
        {
          "output_type": "stream",
          "name": "stdout",
          "text": [
            "Sequential(\n",
            "  (0): Sequential(\n",
            "    (0): Linear(in_features=784, out_features=100, bias=True)\n",
            "    (1): ReLU()\n",
            "  )\n",
            "  (classifier): Sequential(\n",
            "    (0): Linear(in_features=100, out_features=10, bias=True)\n",
            "    (1): LogSoftmax(dim=1)\n",
            "  )\n",
            ")\n"
          ]
        }
      ],
      "source": [
        "new_classifier = nn.Sequential(*list(net.children())[:-1])\n",
        "net = new_classifier\n",
        "net.add_module('classifier', nn.Sequential(nn.Linear(100, 10),nn.LogSoftmax(dim=1)))\n",
        "print(net)\n",
        "net = net.double().to(device)\n",
        "clf_weights = copy.deepcopy(net[0][0].weight.data)\n",
        "init_classifier_weights = copy.deepcopy(net.classifier[0].weight.data)"
      ]
    },
    {
      "cell_type": "markdown",
      "metadata": {
        "id": "_zbZyxN52eAM"
      },
      "source": [
        "**Defining Optimizer**"
      ]
    },
    {
      "cell_type": "code",
      "execution_count": 24,
      "metadata": {
        "id": "sO855UNF1907"
      },
      "outputs": [],
      "source": [
        "criterion = nn.NLLLoss()\n",
        "optimizer = optim.SGD(net.parameters(), lr=0.01, momentum=0.9)"
      ]
    },
    {
      "cell_type": "markdown",
      "source": [
        "**Training Classifier**"
      ],
      "metadata": {
        "id": "_2iXxyASPI09"
      }
    },
    {
      "cell_type": "code",
      "execution_count": 26,
      "metadata": {
        "colab": {
          "base_uri": "https://localhost:8080/"
        },
        "id": "ZxmkDI_Z18HJ",
        "outputId": "9fb321a9-e050-47e0-e5e5-c5d20353f614"
      },
      "outputs": [
        {
          "output_type": "stream",
          "name": "stdout",
          "text": [
            "At Iteration: 1 / 30  ;  Training Loss: 0.835819\n",
            "At Iteration: 2 / 30  ;  Training Loss: 0.304799\n",
            "At Iteration: 3 / 30  ;  Training Loss: 0.262310\n",
            "At Iteration: 4 / 30  ;  Training Loss: 0.240362\n",
            "At Iteration: 5 / 30  ;  Training Loss: 0.225796\n",
            "At Iteration: 6 / 30  ;  Training Loss: 0.215036\n",
            "At Iteration: 7 / 30  ;  Training Loss: 0.206563\n",
            "At Iteration: 8 / 30  ;  Training Loss: 0.199584\n",
            "At Iteration: 9 / 30  ;  Training Loss: 0.193648\n",
            "At Iteration: 10 / 30  ;  Training Loss: 0.188489\n",
            "At Iteration: 11 / 30  ;  Training Loss: 0.183909\n",
            "At Iteration: 12 / 30  ;  Training Loss: 0.179782\n",
            "At Iteration: 13 / 30  ;  Training Loss: 0.176024\n",
            "At Iteration: 14 / 30  ;  Training Loss: 0.172573\n",
            "At Iteration: 15 / 30  ;  Training Loss: 0.169387\n",
            "At Iteration: 16 / 30  ;  Training Loss: 0.166420\n",
            "At Iteration: 17 / 30  ;  Training Loss: 0.163639\n",
            "At Iteration: 18 / 30  ;  Training Loss: 0.161023\n",
            "At Iteration: 19 / 30  ;  Training Loss: 0.158541\n",
            "At Iteration: 20 / 30  ;  Training Loss: 0.156192\n",
            "At Iteration: 21 / 30  ;  Training Loss: 0.153949\n",
            "At Iteration: 22 / 30  ;  Training Loss: 0.151807\n",
            "At Iteration: 23 / 30  ;  Training Loss: 0.149750\n",
            "At Iteration: 24 / 30  ;  Training Loss: 0.147774\n",
            "At Iteration: 25 / 30  ;  Training Loss: 0.145864\n",
            "At Iteration: 26 / 30  ;  Training Loss: 0.144019\n",
            "At Iteration: 27 / 30  ;  Training Loss: 0.142237\n",
            "At Iteration: 28 / 30  ;  Training Loss: 0.140512\n",
            "At Iteration: 29 / 30  ;  Training Loss: 0.138841\n",
            "At Iteration: 30 / 30  ;  Training Loss: 0.137220\n",
            "Finished Training\n"
          ]
        }
      ],
      "source": [
        "iterations = 30\n",
        "BatchSize = 1000\n",
        "for epoch in range(iterations):\n",
        "    runningLoss = 0\n",
        "    for i in range(int(train_images.shape[0]/BatchSize)):\n",
        "        inputs = torch.index_select(train_images,0,torch.linspace(i*BatchSize,(i+1)*BatchSize - 1,steps=BatchSize)\n",
        "                                  .long()).double()\n",
        "        labels = torch.index_select(train_labels,0,torch.linspace(i*BatchSize,(i+1)*BatchSize - 1,steps=BatchSize)\n",
        "                                  .long()).long()\n",
        "        inputs = inputs/255\n",
        "        inputs, labels = inputs.to(device), labels.to(device)\n",
        "        \n",
        "        optimizer.zero_grad()\n",
        "        outputs = net(inputs)\n",
        "        loss = criterion(outputs, labels)\n",
        "        loss.backward()\n",
        "        optimizer.step()\n",
        "        runningLoss += loss.item()\n",
        "        \n",
        "    inputs = train_images.double()/255    \n",
        "    inputs = inputs.to(device)\n",
        "    outputs = net(inputs)\n",
        "    _, predicted = torch.max(outputs.data, 1)\n",
        "    if device == 'cuda':\n",
        "        predicted = predicted.cpu()\n",
        "        \n",
        "    correct = 0\n",
        "    total = 0\n",
        "    total += test_labels.size(0)\n",
        "    #correct += (predicted == test_labels).sum()\n",
        "    print('At Iteration: %d / %d  ;  Training Loss: %f'%(epoch + 1,iterations,runningLoss/\n",
        "                                                                            (train_images.shape[0]/\n",
        "                                                                             BatchSize)))\n",
        "print('Finished Training')\n"
      ]
    },
    {
      "cell_type": "markdown",
      "source": [
        "**Visualizing Encoder Weights**"
      ],
      "metadata": {
        "id": "yge1IFpiGZ5z"
      }
    },
    {
      "cell_type": "code",
      "source": [
        "clf_weights_ft = copy.deepcopy(net[0][0].weight.data)\n",
        "clf_weights = (1 + clf_weights)*127.5\n",
        "clf_weights_ft = (1 + clf_weights_ft)*127.5\n",
        "\n",
        "if use_gpu:\n",
        "    clf_weights = clf_weights.view(-1,280,280).byte().cpu()\n",
        "    clf_weights_ft = clf_weights_ft.view(-1,280,280).byte().cpu()\n",
        "else:\n",
        "    clf_weights = clf_weights.view(-1,280,280).byte()\n",
        "    clf_weights_ft = clf_weights_ft.view(-1,280,280).byte()\n",
        "\n",
        "d_weights = clf_weights - clf_weights_ft\n",
        "\n",
        "fig = plt.figure()\n",
        "plot=fig.add_subplot(1,3,1)\n",
        "img = np.array(clf_weights.numpy())[0]\n",
        "plot.set_title('Encoder Weights')\n",
        "imgplot = plt.imshow(img,cmap='gray')\n",
        "\n",
        "plot=fig.add_subplot(1,3,2)\n",
        "img = np.array(clf_weights_ft.numpy())[0]\n",
        "plot.set_title('Finetuned Weights')\n",
        "imgplot = plt.imshow(img,cmap='gray')\n",
        "\n",
        "plot=fig.add_subplot(1,3,3)\n",
        "img = np.array(d_weights.numpy())[0]\n",
        "plot.set_title('Weight update')\n",
        "imgplot = plt.imshow(img,cmap='gray')\n",
        "plt.show()\n"
      ],
      "metadata": {
        "id": "5IRvw6ivGarj",
        "colab": {
          "base_uri": "https://localhost:8080/",
          "height": 162
        },
        "outputId": "eec7eb78-0c36-4abf-b213-4c495725b30e"
      },
      "execution_count": 29,
      "outputs": [
        {
          "output_type": "display_data",
          "data": {
            "text/plain": [
              "<Figure size 432x288 with 3 Axes>"
            ],
            "image/png": "[encoded data removed]"
          },
          "metadata": {
            "needs_background": "light"
          }
        }
      ]
    },
    {
      "cell_type": "markdown",
      "source": [
        "**Visualizing Classifier Weights**"
      ],
      "metadata": {
        "id": "PDGSktBlGeOp"
      }
    },
    {
      "cell_type": "code",
      "source": [
        "trained_classifier_weights = copy.deepcopy(net.classifier[0].weight.data)\n",
        "init_classifier_weights = (1 + init_classifier_weights)*255\n",
        "trained_classifier_weights = (1 + trained_classifier_weights)*255\n",
        "\n",
        "if use_gpu:\n",
        "    init_classifier_weights = init_classifier_weights.view(-1,40,25).byte().cpu()\n",
        "    trained_classifier_weights = trained_classifier_weights.view(-1,40,25).byte().cpu()\n",
        "else:\n",
        "    init_classifier_weights = init_classifier_weights.view(-1,40,25).byte()\n",
        "    trained_classifier_weights = trained_classifier_weights.view(-1,40,25).byte()\n",
        "\n",
        "d_weights = init_classifier_weights - trained_classifier_weights\n",
        "\n",
        "fig = plt.figure()\n",
        "plot=fig.add_subplot(1,3,1)\n",
        "img = np.array(init_classifier_weights.numpy())[0]\n",
        "plot.set_title('Initial Weights')\n",
        "imgplot = plt.imshow(img,cmap='gray')\n",
        "\n",
        "plot=fig.add_subplot(1,3,2)\n",
        "img = np.array(trained_classifier_weights.numpy())[0]\n",
        "plot.set_title('Trained Weights')\n",
        "imgplot = plt.imshow(img,cmap='gray')\n",
        "\n",
        "plot=fig.add_subplot(1,3,3)\n",
        "img = np.array(d_weights.numpy())[0]\n",
        "plot.set_title('Weight update')\n",
        "imgplot = plt.imshow(img,cmap='gray')\n",
        "plt.show()"
      ],
      "metadata": {
        "id": "S22ZAEmpGfzi",
        "colab": {
          "base_uri": "https://localhost:8080/",
          "height": 221
        },
        "outputId": "107e69db-2735-48f7-d1af-e362abd02c99"
      },
      "execution_count": 31,
      "outputs": [
        {
          "output_type": "display_data",
          "data": {
            "text/plain": [
              "<Figure size 432x288 with 3 Axes>"
            ],
            "image/png": "[encoded data removed]"
          },
          "metadata": {
            "needs_background": "light"
          }
        }
      ]
    }
  ],
  "metadata": {
    "colab": {
      "collapsed_sections": [],
      "name": "Autoencoder_with_PyTorch.ipynb",
      "provenance": [],
      "authorship_tag": "ABX9TyN+7YO47f7wNLhZalBNl3b2",
      "include_colab_link": true
    },
    "kernelspec": {
      "display_name": "Python 3",
      "name": "python3"
    },
    "language_info": {
      "name": "python"
    },
    "accelerator": "GPU",
    "gpuClass": "standard",
    "widgets": {
      "application/vnd.jupyter.widget-state+json": {
        "65cab4b0c03b4eb1ab326992db2d04da": {
          "model_module": "@jupyter-widgets/controls",
          "model_name": "HBoxModel",
          "model_module_version": "1.5.0",
          "state": {
            "_dom_classes": [],
            "_model_module": "@jupyter-widgets/controls",
            "_model_module_version": "1.5.0",
            "_model_name": "HBoxModel",
            "_view_count": null,
            "_view_module": "@jupyter-widgets/controls",
            "_view_module_version": "1.5.0",
            "_view_name": "HBoxView",
            "box_style": "",
            "children": [
              "IPY_MODEL_3134099d00b7462dbd869362c713d035",
              "IPY_MODEL_180336c503fa46e59d5409057d53f0f0",
              "IPY_MODEL_95f55d574b3d4784aed4aadc07afd011"
            ],
            "layout": "IPY_MODEL_5314e39b9416421f8d0be40045952da0"
          }
        },
        "3134099d00b7462dbd869362c713d035": {
          "model_module": "@jupyter-widgets/controls",
          "model_name": "HTMLModel",
          "model_module_version": "1.5.0",
          "state": {
            "_dom_classes": [],
            "_model_module": "@jupyter-widgets/controls",
            "_model_module_version": "1.5.0",
            "_model_name": "HTMLModel",
            "_view_count": null,
            "_view_module": "@jupyter-widgets/controls",
            "_view_module_version": "1.5.0",
            "_view_name": "HTMLView",
            "description": "",
            "description_tooltip": null,
            "layout": "IPY_MODEL_4d54afea2e794400a6524323491253ba",
            "placeholder": "​",
            "style": "IPY_MODEL_ba9360c4f6ad4195902ec1dae7da0d97",
            "value": ""
          }
        },
        "180336c503fa46e59d5409057d53f0f0": {
          "model_module": "@jupyter-widgets/controls",
          "model_name": "FloatProgressModel",
          "model_module_version": "1.5.0",
          "state": {
            "_dom_classes": [],
            "_model_module": "@jupyter-widgets/controls",
            "_model_module_version": "1.5.0",
            "_model_name": "FloatProgressModel",
            "_view_count": null,
            "_view_module": "@jupyter-widgets/controls",
            "_view_module_version": "1.5.0",
            "_view_name": "ProgressView",
            "bar_style": "success",
            "description": "",
            "description_tooltip": null,
            "layout": "IPY_MODEL_d7ccd88617cc4c18bb72b135be5eb1a9",
            "max": 9912422,
            "min": 0,
            "orientation": "horizontal",
            "style": "IPY_MODEL_222d7e4076784e4caff558b0ed18bef1",
            "value": 9912422
          }
        },
        "95f55d574b3d4784aed4aadc07afd011": {
          "model_module": "@jupyter-widgets/controls",
          "model_name": "HTMLModel",
          "model_module_version": "1.5.0",
          "state": {
            "_dom_classes": [],
            "_model_module": "@jupyter-widgets/controls",
            "_model_module_version": "1.5.0",
            "_model_name": "HTMLModel",
            "_view_count": null,
            "_view_module": "@jupyter-widgets/controls",
            "_view_module_version": "1.5.0",
            "_view_name": "HTMLView",
            "description": "",
            "description_tooltip": null,
            "layout": "IPY_MODEL_8f463c005b0141e1b83ddb6b99ea0f67",
            "placeholder": "​",
            "style": "IPY_MODEL_9826742d5dd04e47b56e1b2f8c968850",
            "value": " 9913344/? [00:00&lt;00:00, 66494152.55it/s]"
          }
        },
        "5314e39b9416421f8d0be40045952da0": {
          "model_module": "@jupyter-widgets/base",
          "model_name": "LayoutModel",
          "model_module_version": "1.2.0",
          "state": {
            "_model_module": "@jupyter-widgets/base",
            "_model_module_version": "1.2.0",
            "_model_name": "LayoutModel",
            "_view_count": null,
            "_view_module": "@jupyter-widgets/base",
            "_view_module_version": "1.2.0",
            "_view_name": "LayoutView",
            "align_content": null,
            "align_items": null,
            "align_self": null,
            "border": null,
            "bottom": null,
            "display": null,
            "flex": null,
            "flex_flow": null,
            "grid_area": null,
            "grid_auto_columns": null,
            "grid_auto_flow": null,
            "grid_auto_rows": null,
            "grid_column": null,
            "grid_gap": null,
            "grid_row": null,
            "grid_template_areas": null,
            "grid_template_columns": null,
            "grid_template_rows": null,
            "height": null,
            "justify_content": null,
            "justify_items": null,
            "left": null,
            "margin": null,
            "max_height": null,
            "max_width": null,
            "min_height": null,
            "min_width": null,
            "object_fit": null,
            "object_position": null,
            "order": null,
            "overflow": null,
            "overflow_x": null,
            "overflow_y": null,
            "padding": null,
            "right": null,
            "top": null,
            "visibility": null,
            "width": null
          }
        },
        "4d54afea2e794400a6524323491253ba": {
          "model_module": "@jupyter-widgets/base",
          "model_name": "LayoutModel",
          "model_module_version": "1.2.0",
          "state": {
            "_model_module": "@jupyter-widgets/base",
            "_model_module_version": "1.2.0",
            "_model_name": "LayoutModel",
            "_view_count": null,
            "_view_module": "@jupyter-widgets/base",
            "_view_module_version": "1.2.0",
            "_view_name": "LayoutView",
            "align_content": null,
            "align_items": null,
            "align_self": null,
            "border": null,
            "bottom": null,
            "display": null,
            "flex": null,
            "flex_flow": null,
            "grid_area": null,
            "grid_auto_columns": null,
            "grid_auto_flow": null,
            "grid_auto_rows": null,
            "grid_column": null,
            "grid_gap": null,
            "grid_row": null,
            "grid_template_areas": null,
            "grid_template_columns": null,
            "grid_template_rows": null,
            "height": null,
            "justify_content": null,
            "justify_items": null,
            "left": null,
            "margin": null,
            "max_height": null,
            "max_width": null,
            "min_height": null,
            "min_width": null,
            "object_fit": null,
            "object_position": null,
            "order": null,
            "overflow": null,
            "overflow_x": null,
            "overflow_y": null,
            "padding": null,
            "right": null,
            "top": null,
            "visibility": null,
            "width": null
          }
        },
        "ba9360c4f6ad4195902ec1dae7da0d97": {
          "model_module": "@jupyter-widgets/controls",
          "model_name": "DescriptionStyleModel",
          "model_module_version": "1.5.0",
          "state": {
            "_model_module": "@jupyter-widgets/controls",
            "_model_module_version": "1.5.0",
            "_model_name": "DescriptionStyleModel",
            "_view_count": null,
            "_view_module": "@jupyter-widgets/base",
            "_view_module_version": "1.2.0",
            "_view_name": "StyleView",
            "description_width": ""
          }
        },
        "d7ccd88617cc4c18bb72b135be5eb1a9": {
          "model_module": "@jupyter-widgets/base",
          "model_name": "LayoutModel",
          "model_module_version": "1.2.0",
          "state": {
            "_model_module": "@jupyter-widgets/base",
            "_model_module_version": "1.2.0",
            "_model_name": "LayoutModel",
            "_view_count": null,
            "_view_module": "@jupyter-widgets/base",
            "_view_module_version": "1.2.0",
            "_view_name": "LayoutView",
            "align_content": null,
            "align_items": null,
            "align_self": null,
            "border": null,
            "bottom": null,
            "display": null,
            "flex": null,
            "flex_flow": null,
            "grid_area": null,
            "grid_auto_columns": null,
            "grid_auto_flow": null,
            "grid_auto_rows": null,
            "grid_column": null,
            "grid_gap": null,
            "grid_row": null,
            "grid_template_areas": null,
            "grid_template_columns": null,
            "grid_template_rows": null,
            "height": null,
            "justify_content": null,
            "justify_items": null,
            "left": null,
            "margin": null,
            "max_height": null,
            "max_width": null,
            "min_height": null,
            "min_width": null,
            "object_fit": null,
            "object_position": null,
            "order": null,
            "overflow": null,
            "overflow_x": null,
            "overflow_y": null,
            "padding": null,
            "right": null,
            "top": null,
            "visibility": null,
            "width": null
          }
        },
        "222d7e4076784e4caff558b0ed18bef1": {
          "model_module": "@jupyter-widgets/controls",
          "model_name": "ProgressStyleModel",
          "model_module_version": "1.5.0",
          "state": {
            "_model_module": "@jupyter-widgets/controls",
            "_model_module_version": "1.5.0",
            "_model_name": "ProgressStyleModel",
            "_view_count": null,
            "_view_module": "@jupyter-widgets/base",
            "_view_module_version": "1.2.0",
            "_view_name": "StyleView",
            "bar_color": null,
            "description_width": ""
          }
        },
        "8f463c005b0141e1b83ddb6b99ea0f67": {
          "model_module": "@jupyter-widgets/base",
          "model_name": "LayoutModel",
          "model_module_version": "1.2.0",
          "state": {
            "_model_module": "@jupyter-widgets/base",
            "_model_module_version": "1.2.0",
            "_model_name": "LayoutModel",
            "_view_count": null,
            "_view_module": "@jupyter-widgets/base",
            "_view_module_version": "1.2.0",
            "_view_name": "LayoutView",
            "align_content": null,
            "align_items": null,
            "align_self": null,
            "border": null,
            "bottom": null,
            "display": null,
            "flex": null,
            "flex_flow": null,
            "grid_area": null,
            "grid_auto_columns": null,
            "grid_auto_flow": null,
            "grid_auto_rows": null,
            "grid_column": null,
            "grid_gap": null,
            "grid_row": null,
            "grid_template_areas": null,
            "grid_template_columns": null,
            "grid_template_rows": null,
            "height": null,
            "justify_content": null,
            "justify_items": null,
            "left": null,
            "margin": null,
            "max_height": null,
            "max_width": null,
            "min_height": null,
            "min_width": null,
            "object_fit": null,
            "object_position": null,
            "order": null,
            "overflow": null,
            "overflow_x": null,
            "overflow_y": null,
            "padding": null,
            "right": null,
            "top": null,
            "visibility": null,
            "width": null
          }
        },
        "9826742d5dd04e47b56e1b2f8c968850": {
          "model_module": "@jupyter-widgets/controls",
          "model_name": "DescriptionStyleModel",
          "model_module_version": "1.5.0",
          "state": {
            "_model_module": "@jupyter-widgets/controls",
            "_model_module_version": "1.5.0",
            "_model_name": "DescriptionStyleModel",
            "_view_count": null,
            "_view_module": "@jupyter-widgets/base",
            "_view_module_version": "1.2.0",
            "_view_name": "StyleView",
            "description_width": ""
          }
        },
        "af11c7a0f73d4ce7ab0112b4bb9acad5": {
          "model_module": "@jupyter-widgets/controls",
          "model_name": "HBoxModel",
          "model_module_version": "1.5.0",
          "state": {
            "_dom_classes": [],
            "_model_module": "@jupyter-widgets/controls",
            "_model_module_version": "1.5.0",
            "_model_name": "HBoxModel",
            "_view_count": null,
            "_view_module": "@jupyter-widgets/controls",
            "_view_module_version": "1.5.0",
            "_view_name": "HBoxView",
            "box_style": "",
            "children": [
              "IPY_MODEL_3488d7cceb154777aba3669b6b6c986a",
              "IPY_MODEL_08b6a655cc7b44b09fb3a7ef46a9bce7",
              "IPY_MODEL_60105de5fbb4437a82054527bfe3a756"
            ],
            "layout": "IPY_MODEL_0a3ce922137d4d6b964e0eabc8553e70"
          }
        },
        "3488d7cceb154777aba3669b6b6c986a": {
          "model_module": "@jupyter-widgets/controls",
          "model_name": "HTMLModel",
          "model_module_version": "1.5.0",
          "state": {
            "_dom_classes": [],
            "_model_module": "@jupyter-widgets/controls",
            "_model_module_version": "1.5.0",
            "_model_name": "HTMLModel",
            "_view_count": null,
            "_view_module": "@jupyter-widgets/controls",
            "_view_module_version": "1.5.0",
            "_view_name": "HTMLView",
            "description": "",
            "description_tooltip": null,
            "layout": "IPY_MODEL_b716abb5694d4678b7ba17de6d3162d3",
            "placeholder": "​",
            "style": "IPY_MODEL_596c93d4b9174b38a19e6168f0f4327c",
            "value": ""
          }
        },
        "08b6a655cc7b44b09fb3a7ef46a9bce7": {
          "model_module": "@jupyter-widgets/controls",
          "model_name": "FloatProgressModel",
          "model_module_version": "1.5.0",
          "state": {
            "_dom_classes": [],
            "_model_module": "@jupyter-widgets/controls",
            "_model_module_version": "1.5.0",
            "_model_name": "FloatProgressModel",
            "_view_count": null,
            "_view_module": "@jupyter-widgets/controls",
            "_view_module_version": "1.5.0",
            "_view_name": "ProgressView",
            "bar_style": "success",
            "description": "",
            "description_tooltip": null,
            "layout": "IPY_MODEL_b31a18b9251d413f87a31e77ece35ed4",
            "max": 28881,
            "min": 0,
            "orientation": "horizontal",
            "style": "IPY_MODEL_8db83a6ef92745a8bd253f3b5aa3b79a",
            "value": 28881
          }
        },
        "60105de5fbb4437a82054527bfe3a756": {
          "model_module": "@jupyter-widgets/controls",
          "model_name": "HTMLModel",
          "model_module_version": "1.5.0",
          "state": {
            "_dom_classes": [],
            "_model_module": "@jupyter-widgets/controls",
            "_model_module_version": "1.5.0",
            "_model_name": "HTMLModel",
            "_view_count": null,
            "_view_module": "@jupyter-widgets/controls",
            "_view_module_version": "1.5.0",
            "_view_name": "HTMLView",
            "description": "",
            "description_tooltip": null,
            "layout": "IPY_MODEL_18667b11d8804c55a12d3f4ed4e6693f",
            "placeholder": "​",
            "style": "IPY_MODEL_4858e908c34346e5b5dffe61b6703171",
            "value": " 29696/? [00:00&lt;00:00, 969737.48it/s]"
          }
        },
        "0a3ce922137d4d6b964e0eabc8553e70": {
          "model_module": "@jupyter-widgets/base",
          "model_name": "LayoutModel",
          "model_module_version": "1.2.0",
          "state": {
            "_model_module": "@jupyter-widgets/base",
            "_model_module_version": "1.2.0",
            "_model_name": "LayoutModel",
            "_view_count": null,
            "_view_module": "@jupyter-widgets/base",
            "_view_module_version": "1.2.0",
            "_view_name": "LayoutView",
            "align_content": null,
            "align_items": null,
            "align_self": null,
            "border": null,
            "bottom": null,
            "display": null,
            "flex": null,
            "flex_flow": null,
            "grid_area": null,
            "grid_auto_columns": null,
            "grid_auto_flow": null,
            "grid_auto_rows": null,
            "grid_column": null,
            "grid_gap": null,
            "grid_row": null,
            "grid_template_areas": null,
            "grid_template_columns": null,
            "grid_template_rows": null,
            "height": null,
            "justify_content": null,
            "justify_items": null,
            "left": null,
            "margin": null,
            "max_height": null,
            "max_width": null,
            "min_height": null,
            "min_width": null,
            "object_fit": null,
            "object_position": null,
            "order": null,
            "overflow": null,
            "overflow_x": null,
            "overflow_y": null,
            "padding": null,
            "right": null,
            "top": null,
            "visibility": null,
            "width": null
          }
        },
        "b716abb5694d4678b7ba17de6d3162d3": {
          "model_module": "@jupyter-widgets/base",
          "model_name": "LayoutModel",
          "model_module_version": "1.2.0",
          "state": {
            "_model_module": "@jupyter-widgets/base",
            "_model_module_version": "1.2.0",
            "_model_name": "LayoutModel",
            "_view_count": null,
            "_view_module": "@jupyter-widgets/base",
            "_view_module_version": "1.2.0",
            "_view_name": "LayoutView",
            "align_content": null,
            "align_items": null,
            "align_self": null,
            "border": null,
            "bottom": null,
            "display": null,
            "flex": null,
            "flex_flow": null,
            "grid_area": null,
            "grid_auto_columns": null,
            "grid_auto_flow": null,
            "grid_auto_rows": null,
            "grid_column": null,
            "grid_gap": null,
            "grid_row": null,
            "grid_template_areas": null,
            "grid_template_columns": null,
            "grid_template_rows": null,
            "height": null,
            "justify_content": null,
            "justify_items": null,
            "left": null,
            "margin": null,
            "max_height": null,
            "max_width": null,
            "min_height": null,
            "min_width": null,
            "object_fit": null,
            "object_position": null,
            "order": null,
            "overflow": null,
            "overflow_x": null,
            "overflow_y": null,
            "padding": null,
            "right": null,
            "top": null,
            "visibility": null,
            "width": null
          }
        },
        "596c93d4b9174b38a19e6168f0f4327c": {
          "model_module": "@jupyter-widgets/controls",
          "model_name": "DescriptionStyleModel",
          "model_module_version": "1.5.0",
          "state": {
            "_model_module": "@jupyter-widgets/controls",
            "_model_module_version": "1.5.0",
            "_model_name": "DescriptionStyleModel",
            "_view_count": null,
            "_view_module": "@jupyter-widgets/base",
            "_view_module_version": "1.2.0",
            "_view_name": "StyleView",
            "description_width": ""
          }
        },
        "b31a18b9251d413f87a31e77ece35ed4": {
          "model_module": "@jupyter-widgets/base",
          "model_name": "LayoutModel",
          "model_module_version": "1.2.0",
          "state": {
            "_model_module": "@jupyter-widgets/base",
            "_model_module_version": "1.2.0",
            "_model_name": "LayoutModel",
            "_view_count": null,
            "_view_module": "@jupyter-widgets/base",
            "_view_module_version": "1.2.0",
            "_view_name": "LayoutView",
            "align_content": null,
            "align_items": null,
            "align_self": null,
            "border": null,
            "bottom": null,
            "display": null,
            "flex": null,
            "flex_flow": null,
            "grid_area": null,
            "grid_auto_columns": null,
            "grid_auto_flow": null,
            "grid_auto_rows": null,
            "grid_column": null,
            "grid_gap": null,
            "grid_row": null,
            "grid_template_areas": null,
            "grid_template_columns": null,
            "grid_template_rows": null,
            "height": null,
            "justify_content": null,
            "justify_items": null,
            "left": null,
            "margin": null,
            "max_height": null,
            "max_width": null,
            "min_height": null,
            "min_width": null,
            "object_fit": null,
            "object_position": null,
            "order": null,
            "overflow": null,
            "overflow_x": null,
            "overflow_y": null,
            "padding": null,
            "right": null,
            "top": null,
            "visibility": null,
            "width": null
          }
        },
        "8db83a6ef92745a8bd253f3b5aa3b79a": {
          "model_module": "@jupyter-widgets/controls",
          "model_name": "ProgressStyleModel",
          "model_module_version": "1.5.0",
          "state": {
            "_model_module": "@jupyter-widgets/controls",
            "_model_module_version": "1.5.0",
            "_model_name": "ProgressStyleModel",
            "_view_count": null,
            "_view_module": "@jupyter-widgets/base",
            "_view_module_version": "1.2.0",
            "_view_name": "StyleView",
            "bar_color": null,
            "description_width": ""
          }
        },
        "18667b11d8804c55a12d3f4ed4e6693f": {
          "model_module": "@jupyter-widgets/base",
          "model_name": "LayoutModel",
          "model_module_version": "1.2.0",
          "state": {
            "_model_module": "@jupyter-widgets/base",
            "_model_module_version": "1.2.0",
            "_model_name": "LayoutModel",
            "_view_count": null,
            "_view_module": "@jupyter-widgets/base",
            "_view_module_version": "1.2.0",
            "_view_name": "LayoutView",
            "align_content": null,
            "align_items": null,
            "align_self": null,
            "border": null,
            "bottom": null,
            "display": null,
            "flex": null,
            "flex_flow": null,
            "grid_area": null,
            "grid_auto_columns": null,
            "grid_auto_flow": null,
            "grid_auto_rows": null,
            "grid_column": null,
            "grid_gap": null,
            "grid_row": null,
            "grid_template_areas": null,
            "grid_template_columns": null,
            "grid_template_rows": null,
            "height": null,
            "justify_content": null,
            "justify_items": null,
            "left": null,
            "margin": null,
            "max_height": null,
            "max_width": null,
            "min_height": null,
            "min_width": null,
            "object_fit": null,
            "object_position": null,
            "order": null,
            "overflow": null,
            "overflow_x": null,
            "overflow_y": null,
            "padding": null,
            "right": null,
            "top": null,
            "visibility": null,
            "width": null
          }
        },
        "4858e908c34346e5b5dffe61b6703171": {
          "model_module": "@jupyter-widgets/controls",
          "model_name": "DescriptionStyleModel",
          "model_module_version": "1.5.0",
          "state": {
            "_model_module": "@jupyter-widgets/controls",
            "_model_module_version": "1.5.0",
            "_model_name": "DescriptionStyleModel",
            "_view_count": null,
            "_view_module": "@jupyter-widgets/base",
            "_view_module_version": "1.2.0",
            "_view_name": "StyleView",
            "description_width": ""
          }
        },
        "3dee795cea2d431e96e4bf79d9e15046": {
          "model_module": "@jupyter-widgets/controls",
          "model_name": "HBoxModel",
          "model_module_version": "1.5.0",
          "state": {
            "_dom_classes": [],
            "_model_module": "@jupyter-widgets/controls",
            "_model_module_version": "1.5.0",
            "_model_name": "HBoxModel",
            "_view_count": null,
            "_view_module": "@jupyter-widgets/controls",
            "_view_module_version": "1.5.0",
            "_view_name": "HBoxView",
            "box_style": "",
            "children": [
              "IPY_MODEL_f4f22cc0c08d483bb4470dab14a277f0",
              "IPY_MODEL_e41bacdafc4a4c648420cbac884fb00c",
              "IPY_MODEL_d406492a9e5d4d6087f8c0eefb272fdf"
            ],
            "layout": "IPY_MODEL_b0615f6071164553931d230bf58cc573"
          }
        },
        "f4f22cc0c08d483bb4470dab14a277f0": {
          "model_module": "@jupyter-widgets/controls",
          "model_name": "HTMLModel",
          "model_module_version": "1.5.0",
          "state": {
            "_dom_classes": [],
            "_model_module": "@jupyter-widgets/controls",
            "_model_module_version": "1.5.0",
            "_model_name": "HTMLModel",
            "_view_count": null,
            "_view_module": "@jupyter-widgets/controls",
            "_view_module_version": "1.5.0",
            "_view_name": "HTMLView",
            "description": "",
            "description_tooltip": null,
            "layout": "IPY_MODEL_137fd8244f24440cac1d160e4bc20ffa",
            "placeholder": "​",
            "style": "IPY_MODEL_a5343f04348b40a6a27057b689b84d6b",
            "value": ""
          }
        },
        "e41bacdafc4a4c648420cbac884fb00c": {
          "model_module": "@jupyter-widgets/controls",
          "model_name": "FloatProgressModel",
          "model_module_version": "1.5.0",
          "state": {
            "_dom_classes": [],
            "_model_module": "@jupyter-widgets/controls",
            "_model_module_version": "1.5.0",
            "_model_name": "FloatProgressModel",
            "_view_count": null,
            "_view_module": "@jupyter-widgets/controls",
            "_view_module_version": "1.5.0",
            "_view_name": "ProgressView",
            "bar_style": "success",
            "description": "",
            "description_tooltip": null,
            "layout": "IPY_MODEL_61e98d0c7dec4e77a5479d6308e2147b",
            "max": 1648877,
            "min": 0,
            "orientation": "horizontal",
            "style": "IPY_MODEL_0b23df3ac6a64b2cb720ab7430a9b573",
            "value": 1648877
          }
        },
        "d406492a9e5d4d6087f8c0eefb272fdf": {
          "model_module": "@jupyter-widgets/controls",
          "model_name": "HTMLModel",
          "model_module_version": "1.5.0",
          "state": {
            "_dom_classes": [],
            "_model_module": "@jupyter-widgets/controls",
            "_model_module_version": "1.5.0",
            "_model_name": "HTMLModel",
            "_view_count": null,
            "_view_module": "@jupyter-widgets/controls",
            "_view_module_version": "1.5.0",
            "_view_name": "HTMLView",
            "description": "",
            "description_tooltip": null,
            "layout": "IPY_MODEL_d67b9f20949f4e6abf93ea1b7a326716",
            "placeholder": "​",
            "style": "IPY_MODEL_179d03687e664a90843ad7d377837920",
            "value": " 1649664/? [00:00&lt;00:00, 28250364.66it/s]"
          }
        },
        "b0615f6071164553931d230bf58cc573": {
          "model_module": "@jupyter-widgets/base",
          "model_name": "LayoutModel",
          "model_module_version": "1.2.0",
          "state": {
            "_model_module": "@jupyter-widgets/base",
            "_model_module_version": "1.2.0",
            "_model_name": "LayoutModel",
            "_view_count": null,
            "_view_module": "@jupyter-widgets/base",
            "_view_module_version": "1.2.0",
            "_view_name": "LayoutView",
            "align_content": null,
            "align_items": null,
            "align_self": null,
            "border": null,
            "bottom": null,
            "display": null,
            "flex": null,
            "flex_flow": null,
            "grid_area": null,
            "grid_auto_columns": null,
            "grid_auto_flow": null,
            "grid_auto_rows": null,
            "grid_column": null,
            "grid_gap": null,
            "grid_row": null,
            "grid_template_areas": null,
            "grid_template_columns": null,
            "grid_template_rows": null,
            "height": null,
            "justify_content": null,
            "justify_items": null,
            "left": null,
            "margin": null,
            "max_height": null,
            "max_width": null,
            "min_height": null,
            "min_width": null,
            "object_fit": null,
            "object_position": null,
            "order": null,
            "overflow": null,
            "overflow_x": null,
            "overflow_y": null,
            "padding": null,
            "right": null,
            "top": null,
            "visibility": null,
            "width": null
          }
        },
        "137fd8244f24440cac1d160e4bc20ffa": {
          "model_module": "@jupyter-widgets/base",
          "model_name": "LayoutModel",
          "model_module_version": "1.2.0",
          "state": {
            "_model_module": "@jupyter-widgets/base",
            "_model_module_version": "1.2.0",
            "_model_name": "LayoutModel",
            "_view_count": null,
            "_view_module": "@jupyter-widgets/base",
            "_view_module_version": "1.2.0",
            "_view_name": "LayoutView",
            "align_content": null,
            "align_items": null,
            "align_self": null,
            "border": null,
            "bottom": null,
            "display": null,
            "flex": null,
            "flex_flow": null,
            "grid_area": null,
            "grid_auto_columns": null,
            "grid_auto_flow": null,
            "grid_auto_rows": null,
            "grid_column": null,
            "grid_gap": null,
            "grid_row": null,
            "grid_template_areas": null,
            "grid_template_columns": null,
            "grid_template_rows": null,
            "height": null,
            "justify_content": null,
            "justify_items": null,
            "left": null,
            "margin": null,
            "max_height": null,
            "max_width": null,
            "min_height": null,
            "min_width": null,
            "object_fit": null,
            "object_position": null,
            "order": null,
            "overflow": null,
            "overflow_x": null,
            "overflow_y": null,
            "padding": null,
            "right": null,
            "top": null,
            "visibility": null,
            "width": null
          }
        },
        "a5343f04348b40a6a27057b689b84d6b": {
          "model_module": "@jupyter-widgets/controls",
          "model_name": "DescriptionStyleModel",
          "model_module_version": "1.5.0",
          "state": {
            "_model_module": "@jupyter-widgets/controls",
            "_model_module_version": "1.5.0",
            "_model_name": "DescriptionStyleModel",
            "_view_count": null,
            "_view_module": "@jupyter-widgets/base",
            "_view_module_version": "1.2.0",
            "_view_name": "StyleView",
            "description_width": ""
          }
        },
        "61e98d0c7dec4e77a5479d6308e2147b": {
          "model_module": "@jupyter-widgets/base",
          "model_name": "LayoutModel",
          "model_module_version": "1.2.0",
          "state": {
            "_model_module": "@jupyter-widgets/base",
            "_model_module_version": "1.2.0",
            "_model_name": "LayoutModel",
            "_view_count": null,
            "_view_module": "@jupyter-widgets/base",
            "_view_module_version": "1.2.0",
            "_view_name": "LayoutView",
            "align_content": null,
            "align_items": null,
            "align_self": null,
            "border": null,
            "bottom": null,
            "display": null,
            "flex": null,
            "flex_flow": null,
            "grid_area": null,
            "grid_auto_columns": null,
            "grid_auto_flow": null,
            "grid_auto_rows": null,
            "grid_column": null,
            "grid_gap": null,
            "grid_row": null,
            "grid_template_areas": null,
            "grid_template_columns": null,
            "grid_template_rows": null,
            "height": null,
            "justify_content": null,
            "justify_items": null,
            "left": null,
            "margin": null,
            "max_height": null,
            "max_width": null,
            "min_height": null,
            "min_width": null,
            "object_fit": null,
            "object_position": null,
            "order": null,
            "overflow": null,
            "overflow_x": null,
            "overflow_y": null,
            "padding": null,
            "right": null,
            "top": null,
            "visibility": null,
            "width": null
          }
        },
        "0b23df3ac6a64b2cb720ab7430a9b573": {
          "model_module": "@jupyter-widgets/controls",
          "model_name": "ProgressStyleModel",
          "model_module_version": "1.5.0",
          "state": {
            "_model_module": "@jupyter-widgets/controls",
            "_model_module_version": "1.5.0",
            "_model_name": "ProgressStyleModel",
            "_view_count": null,
            "_view_module": "@jupyter-widgets/base",
            "_view_module_version": "1.2.0",
            "_view_name": "StyleView",
            "bar_color": null,
            "description_width": ""
          }
        },
        "d67b9f20949f4e6abf93ea1b7a326716": {
          "model_module": "@jupyter-widgets/base",
          "model_name": "LayoutModel",
          "model_module_version": "1.2.0",
          "state": {
            "_model_module": "@jupyter-widgets/base",
            "_model_module_version": "1.2.0",
            "_model_name": "LayoutModel",
            "_view_count": null,
            "_view_module": "@jupyter-widgets/base",
            "_view_module_version": "1.2.0",
            "_view_name": "LayoutView",
            "align_content": null,
            "align_items": null,
            "align_self": null,
            "border": null,
            "bottom": null,
            "display": null,
            "flex": null,
            "flex_flow": null,
            "grid_area": null,
            "grid_auto_columns": null,
            "grid_auto_flow": null,
            "grid_auto_rows": null,
            "grid_column": null,
            "grid_gap": null,
            "grid_row": null,
            "grid_template_areas": null,
            "grid_template_columns": null,
            "grid_template_rows": null,
            "height": null,
            "justify_content": null,
            "justify_items": null,
            "left": null,
            "margin": null,
            "max_height": null,
            "max_width": null,
            "min_height": null,
            "min_width": null,
            "object_fit": null,
            "object_position": null,
            "order": null,
            "overflow": null,
            "overflow_x": null,
            "overflow_y": null,
            "padding": null,
            "right": null,
            "top": null,
            "visibility": null,
            "width": null
          }
        },
        "179d03687e664a90843ad7d377837920": {
          "model_module": "@jupyter-widgets/controls",
          "model_name": "DescriptionStyleModel",
          "model_module_version": "1.5.0",
          "state": {
            "_model_module": "@jupyter-widgets/controls",
            "_model_module_version": "1.5.0",
            "_model_name": "DescriptionStyleModel",
            "_view_count": null,
            "_view_module": "@jupyter-widgets/base",
            "_view_module_version": "1.2.0",
            "_view_name": "StyleView",
            "description_width": ""
          }
        },
        "64040908035a41ba88da4e3c96be8d6d": {
          "model_module": "@jupyter-widgets/controls",
          "model_name": "HBoxModel",
          "model_module_version": "1.5.0",
          "state": {
            "_dom_classes": [],
            "_model_module": "@jupyter-widgets/controls",
            "_model_module_version": "1.5.0",
            "_model_name": "HBoxModel",
            "_view_count": null,
            "_view_module": "@jupyter-widgets/controls",
            "_view_module_version": "1.5.0",
            "_view_name": "HBoxView",
            "box_style": "",
            "children": [
              "IPY_MODEL_5208056cccfe460584fe25f09de6889a",
              "IPY_MODEL_c59dbebbe289482b9d3bdeaa674f6c19",
              "IPY_MODEL_27d58b95fa974e1aa640a9fd34b51f27"
            ],
            "layout": "IPY_MODEL_a5ed5dc9d8ac4956b1a8f9e60eb46da6"
          }
        },
        "5208056cccfe460584fe25f09de6889a": {
          "model_module": "@jupyter-widgets/controls",
          "model_name": "HTMLModel",
          "model_module_version": "1.5.0",
          "state": {
            "_dom_classes": [],
            "_model_module": "@jupyter-widgets/controls",
            "_model_module_version": "1.5.0",
            "_model_name": "HTMLModel",
            "_view_count": null,
            "_view_module": "@jupyter-widgets/controls",
            "_view_module_version": "1.5.0",
            "_view_name": "HTMLView",
            "description": "",
            "description_tooltip": null,
            "layout": "IPY_MODEL_2126e8e6041d4a97a04701fb9501360e",
            "placeholder": "​",
            "style": "IPY_MODEL_f7c6a4dd50d0482fae09ab651412b2f2",
            "value": ""
          }
        },
        "c59dbebbe289482b9d3bdeaa674f6c19": {
          "model_module": "@jupyter-widgets/controls",
          "model_name": "FloatProgressModel",
          "model_module_version": "1.5.0",
          "state": {
            "_dom_classes": [],
            "_model_module": "@jupyter-widgets/controls",
            "_model_module_version": "1.5.0",
            "_model_name": "FloatProgressModel",
            "_view_count": null,
            "_view_module": "@jupyter-widgets/controls",
            "_view_module_version": "1.5.0",
            "_view_name": "ProgressView",
            "bar_style": "success",
            "description": "",
            "description_tooltip": null,
            "layout": "IPY_MODEL_c95b72becb4c4b18a5671c65cc565bad",
            "max": 4542,
            "min": 0,
            "orientation": "horizontal",
            "style": "IPY_MODEL_3625daeddd0b4190920fbd66a01dad97",
            "value": 4542
          }
        },
        "27d58b95fa974e1aa640a9fd34b51f27": {
          "model_module": "@jupyter-widgets/controls",
          "model_name": "HTMLModel",
          "model_module_version": "1.5.0",
          "state": {
            "_dom_classes": [],
            "_model_module": "@jupyter-widgets/controls",
            "_model_module_version": "1.5.0",
            "_model_name": "HTMLModel",
            "_view_count": null,
            "_view_module": "@jupyter-widgets/controls",
            "_view_module_version": "1.5.0",
            "_view_name": "HTMLView",
            "description": "",
            "description_tooltip": null,
            "layout": "IPY_MODEL_786abf478bdc49cf9faa783305c05e68",
            "placeholder": "​",
            "style": "IPY_MODEL_312b26928a234ae7b65243b203289cf0",
            "value": " 5120/? [00:00&lt;00:00, 174524.06it/s]"
          }
        },
        "a5ed5dc9d8ac4956b1a8f9e60eb46da6": {
          "model_module": "@jupyter-widgets/base",
          "model_name": "LayoutModel",
          "model_module_version": "1.2.0",
          "state": {
            "_model_module": "@jupyter-widgets/base",
            "_model_module_version": "1.2.0",
            "_model_name": "LayoutModel",
            "_view_count": null,
            "_view_module": "@jupyter-widgets/base",
            "_view_module_version": "1.2.0",
            "_view_name": "LayoutView",
            "align_content": null,
            "align_items": null,
            "align_self": null,
            "border": null,
            "bottom": null,
            "display": null,
            "flex": null,
            "flex_flow": null,
            "grid_area": null,
            "grid_auto_columns": null,
            "grid_auto_flow": null,
            "grid_auto_rows": null,
            "grid_column": null,
            "grid_gap": null,
            "grid_row": null,
            "grid_template_areas": null,
            "grid_template_columns": null,
            "grid_template_rows": null,
            "height": null,
            "justify_content": null,
            "justify_items": null,
            "left": null,
            "margin": null,
            "max_height": null,
            "max_width": null,
            "min_height": null,
            "min_width": null,
            "object_fit": null,
            "object_position": null,
            "order": null,
            "overflow": null,
            "overflow_x": null,
            "overflow_y": null,
            "padding": null,
            "right": null,
            "top": null,
            "visibility": null,
            "width": null
          }
        },
        "2126e8e6041d4a97a04701fb9501360e": {
          "model_module": "@jupyter-widgets/base",
          "model_name": "LayoutModel",
          "model_module_version": "1.2.0",
          "state": {
            "_model_module": "@jupyter-widgets/base",
            "_model_module_version": "1.2.0",
            "_model_name": "LayoutModel",
            "_view_count": null,
            "_view_module": "@jupyter-widgets/base",
            "_view_module_version": "1.2.0",
            "_view_name": "LayoutView",
            "align_content": null,
            "align_items": null,
            "align_self": null,
            "border": null,
            "bottom": null,
            "display": null,
            "flex": null,
            "flex_flow": null,
            "grid_area": null,
            "grid_auto_columns": null,
            "grid_auto_flow": null,
            "grid_auto_rows": null,
            "grid_column": null,
            "grid_gap": null,
            "grid_row": null,
            "grid_template_areas": null,
            "grid_template_columns": null,
            "grid_template_rows": null,
            "height": null,
            "justify_content": null,
            "justify_items": null,
            "left": null,
            "margin": null,
            "max_height": null,
            "max_width": null,
            "min_height": null,
            "min_width": null,
            "object_fit": null,
            "object_position": null,
            "order": null,
            "overflow": null,
            "overflow_x": null,
            "overflow_y": null,
            "padding": null,
            "right": null,
            "top": null,
            "visibility": null,
            "width": null
          }
        },
        "f7c6a4dd50d0482fae09ab651412b2f2": {
          "model_module": "@jupyter-widgets/controls",
          "model_name": "DescriptionStyleModel",
          "model_module_version": "1.5.0",
          "state": {
            "_model_module": "@jupyter-widgets/controls",
            "_model_module_version": "1.5.0",
            "_model_name": "DescriptionStyleModel",
            "_view_count": null,
            "_view_module": "@jupyter-widgets/base",
            "_view_module_version": "1.2.0",
            "_view_name": "StyleView",
            "description_width": ""
          }
        },
        "c95b72becb4c4b18a5671c65cc565bad": {
          "model_module": "@jupyter-widgets/base",
          "model_name": "LayoutModel",
          "model_module_version": "1.2.0",
          "state": {
            "_model_module": "@jupyter-widgets/base",
            "_model_module_version": "1.2.0",
            "_model_name": "LayoutModel",
            "_view_count": null,
            "_view_module": "@jupyter-widgets/base",
            "_view_module_version": "1.2.0",
            "_view_name": "LayoutView",
            "align_content": null,
            "align_items": null,
            "align_self": null,
            "border": null,
            "bottom": null,
            "display": null,
            "flex": null,
            "flex_flow": null,
            "grid_area": null,
            "grid_auto_columns": null,
            "grid_auto_flow": null,
            "grid_auto_rows": null,
            "grid_column": null,
            "grid_gap": null,
            "grid_row": null,
            "grid_template_areas": null,
            "grid_template_columns": null,
            "grid_template_rows": null,
            "height": null,
            "justify_content": null,
            "justify_items": null,
            "left": null,
            "margin": null,
            "max_height": null,
            "max_width": null,
            "min_height": null,
            "min_width": null,
            "object_fit": null,
            "object_position": null,
            "order": null,
            "overflow": null,
            "overflow_x": null,
            "overflow_y": null,
            "padding": null,
            "right": null,
            "top": null,
            "visibility": null,
            "width": null
          }
        },
        "3625daeddd0b4190920fbd66a01dad97": {
          "model_module": "@jupyter-widgets/controls",
          "model_name": "ProgressStyleModel",
          "model_module_version": "1.5.0",
          "state": {
            "_model_module": "@jupyter-widgets/controls",
            "_model_module_version": "1.5.0",
            "_model_name": "ProgressStyleModel",
            "_view_count": null,
            "_view_module": "@jupyter-widgets/base",
            "_view_module_version": "1.2.0",
            "_view_name": "StyleView",
            "bar_color": null,
            "description_width": ""
          }
        },
        "786abf478bdc49cf9faa783305c05e68": {
          "model_module": "@jupyter-widgets/base",
          "model_name": "LayoutModel",
          "model_module_version": "1.2.0",
          "state": {
            "_model_module": "@jupyter-widgets/base",
            "_model_module_version": "1.2.0",
            "_model_name": "LayoutModel",
            "_view_count": null,
            "_view_module": "@jupyter-widgets/base",
            "_view_module_version": "1.2.0",
            "_view_name": "LayoutView",
            "align_content": null,
            "align_items": null,
            "align_self": null,
            "border": null,
            "bottom": null,
            "display": null,
            "flex": null,
            "flex_flow": null,
            "grid_area": null,
            "grid_auto_columns": null,
            "grid_auto_flow": null,
            "grid_auto_rows": null,
            "grid_column": null,
            "grid_gap": null,
            "grid_row": null,
            "grid_template_areas": null,
            "grid_template_columns": null,
            "grid_template_rows": null,
            "height": null,
            "justify_content": null,
            "justify_items": null,
            "left": null,
            "margin": null,
            "max_height": null,
            "max_width": null,
            "min_height": null,
            "min_width": null,
            "object_fit": null,
            "object_position": null,
            "order": null,
            "overflow": null,
            "overflow_x": null,
            "overflow_y": null,
            "padding": null,
            "right": null,
            "top": null,
            "visibility": null,
            "width": null
          }
        },
        "312b26928a234ae7b65243b203289cf0": {
          "model_module": "@jupyter-widgets/controls",
          "model_name": "DescriptionStyleModel",
          "model_module_version": "1.5.0",
          "state": {
            "_model_module": "@jupyter-widgets/controls",
            "_model_module_version": "1.5.0",
            "_model_name": "DescriptionStyleModel",
            "_view_count": null,
            "_view_module": "@jupyter-widgets/base",
            "_view_module_version": "1.2.0",
            "_view_name": "StyleView",
            "description_width": ""
          }
        }
      }
    }
  },
  "nbformat": 4,
  "nbformat_minor": 0
}